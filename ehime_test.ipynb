{
  "nbformat": 4,
  "nbformat_minor": 0,
  "metadata": {
    "colab": {
      "name": "ehime_test.ipynb",
      "provenance": [],
      "collapsed_sections": [],
      "toc_visible": true,
      "authorship_tag": "ABX9TyNw0RSGW5wAhqPJOHrrl7T0",
      "include_colab_link": true
    },
    "kernelspec": {
      "name": "python3",
      "display_name": "Python 3"
    }
  },
  "cells": [
    {
      "cell_type": "markdown",
      "metadata": {
        "id": "view-in-github",
        "colab_type": "text"
      },
      "source": [
        "<a href=\"https://colab.research.google.com/github/imabari/ehime-covid-bot/blob/main/ehime_test.ipynb\" target=\"_parent\"><img src=\"https://colab.research.google.com/assets/colab-badge.svg\" alt=\"Open In Colab\"/></a>"
      ]
    },
    {
      "cell_type": "markdown",
      "metadata": {
        "id": "ci4GTON8kiNr"
      },
      "source": [
        "# インストール"
      ]
    },
    {
      "cell_type": "code",
      "metadata": {
        "colab": {
          "base_uri": "https://localhost:8080/"
        },
        "id": "mlHgyqGIg3tB",
        "outputId": "e81282e8-eafe-4d83-b3e0-95f848b0f779"
      },
      "source": [
        "!pip install pdfminer.six"
      ],
      "execution_count": 1,
      "outputs": [
        {
          "output_type": "stream",
          "text": [
            "Collecting pdfminer.six\n",
            "\u001b[?25l  Downloading https://files.pythonhosted.org/packages/93/f3/4fec7dabe8802ebec46141345bf714cd1fc7d93cb74ddde917e4b6d97d88/pdfminer.six-20201018-py3-none-any.whl (5.6MB)\n",
            "\u001b[K     |████████████████████████████████| 5.6MB 11.5MB/s \n",
            "\u001b[?25hRequirement already satisfied: chardet; python_version > \"3.0\" in /usr/local/lib/python3.6/dist-packages (from pdfminer.six) (3.0.4)\n",
            "Collecting cryptography\n",
            "\u001b[?25l  Downloading https://files.pythonhosted.org/packages/c9/de/7054df0620b5411ba45480f0261e1fb66a53f3db31b28e3aa52c026e72d9/cryptography-3.3.1-cp36-abi3-manylinux2010_x86_64.whl (2.6MB)\n",
            "\u001b[K     |████████████████████████████████| 2.6MB 58.5MB/s \n",
            "\u001b[?25hRequirement already satisfied: sortedcontainers in /usr/local/lib/python3.6/dist-packages (from pdfminer.six) (2.3.0)\n",
            "Requirement already satisfied: six>=1.4.1 in /usr/local/lib/python3.6/dist-packages (from cryptography->pdfminer.six) (1.15.0)\n",
            "Requirement already satisfied: cffi>=1.12 in /usr/local/lib/python3.6/dist-packages (from cryptography->pdfminer.six) (1.14.4)\n",
            "Requirement already satisfied: pycparser in /usr/local/lib/python3.6/dist-packages (from cffi>=1.12->cryptography->pdfminer.six) (2.20)\n",
            "Installing collected packages: cryptography, pdfminer.six\n",
            "Successfully installed cryptography-3.3.1 pdfminer.six-20201018\n"
          ],
          "name": "stdout"
        }
      ]
    },
    {
      "cell_type": "markdown",
      "metadata": {
        "id": "omCFyJoikmA6"
      },
      "source": [
        "# プログラム"
      ]
    },
    {
      "cell_type": "markdown",
      "metadata": {
        "id": "4meu8-YrkpQZ"
      },
      "source": [
        "## 設定"
      ]
    },
    {
      "cell_type": "code",
      "metadata": {
        "id": "8-3nWbLZgDFH"
      },
      "source": [
        "import datetime\r\n",
        "import pathlib\r\n",
        "import re\r\n",
        "import unicodedata\r\n",
        "from urllib.parse import urljoin"
      ],
      "execution_count": 2,
      "outputs": []
    },
    {
      "cell_type": "code",
      "metadata": {
        "id": "6yir9jLkgQpW"
      },
      "source": [
        "from pdfminer.high_level import extract_text\r\n",
        "import requests\r\n",
        "import tweepy\r\n",
        "from bs4 import BeautifulSoup"
      ],
      "execution_count": 3,
      "outputs": []
    },
    {
      "cell_type": "code",
      "metadata": {
        "id": "V_jQfCB4gWfW"
      },
      "source": [
        "# 愛媛県の新型コロナウイルス感染症に関する情報\r\n",
        "url = \"https://www.pref.ehime.jp/h25500/kansen/covid19.html\""
      ],
      "execution_count": 4,
      "outputs": []
    },
    {
      "cell_type": "markdown",
      "metadata": {
        "id": "hxOniDeZkuEK"
      },
      "source": [
        "## 関数"
      ]
    },
    {
      "cell_type": "code",
      "metadata": {
        "id": "obJnQEA7gQsG"
      },
      "source": [
        "# スクレイピング\r\n",
        "def fetch_soup(url, parser=\"html.parser\"):\r\n",
        "\r\n",
        "    r = requests.get(url)\r\n",
        "    r.raise_for_status()\r\n",
        "\r\n",
        "    soup = BeautifulSoup(r.content, parser)\r\n",
        "\r\n",
        "    return soup"
      ],
      "execution_count": 5,
      "outputs": []
    },
    {
      "cell_type": "code",
      "metadata": {
        "id": "Tn4Qd9vHgWcZ"
      },
      "source": [
        "# PDFファイルからテキスト抽出\r\n",
        "def fetch_text(url):\r\n",
        "\r\n",
        "    r = requests.get(url)\r\n",
        "\r\n",
        "    p = pathlib.Path(pathlib.PurePath(url).name)\r\n",
        "\r\n",
        "    with p.open(mode=\"wb\") as fw:\r\n",
        "        fw.write(r.content)\r\n",
        "\r\n",
        "    text = extract_text(p)\r\n",
        "\r\n",
        "    return unicodedata.normalize(\"NFKC\", text)"
      ],
      "execution_count": 6,
      "outputs": []
    },
    {
      "cell_type": "markdown",
      "metadata": {
        "id": "oJEZAlcwk9bi"
      },
      "source": [
        "## スクレイピング"
      ]
    },
    {
      "cell_type": "code",
      "metadata": {
        "id": "roPFfuG6gb-C"
      },
      "source": [
        "soup = fetch_soup(url)"
      ],
      "execution_count": 7,
      "outputs": []
    },
    {
      "cell_type": "code",
      "metadata": {
        "id": "fw4ujWPBgcBd"
      },
      "source": [
        "# 記事のリンクを抽出\r\n",
        "tags = soup.select(\"div#tmp_contents > ul > li > a\")"
      ],
      "execution_count": 8,
      "outputs": []
    },
    {
      "cell_type": "markdown",
      "metadata": {
        "id": "MCTIBskIlZoC"
      },
      "source": [
        "## 新型コロナウイルスの感染の確認等について"
      ]
    },
    {
      "cell_type": "code",
      "metadata": {
        "id": "4a1gAPrNiQOz"
      },
      "source": [
        "# 最新記事は上から4番目\r\n",
        "tag1 = tags[3]"
      ],
      "execution_count": 9,
      "outputs": []
    },
    {
      "cell_type": "code",
      "metadata": {
        "colab": {
          "base_uri": "https://localhost:8080/"
        },
        "id": "KrrlAYcBgcEv",
        "outputId": "5873f9c5-ee05-4157-fce7-50938eff2173"
      },
      "source": [
        "# タイトル確認\r\n",
        "title1 = tag1.get_text(strip=True)\r\n",
        "print(title1)"
      ],
      "execution_count": 10,
      "outputs": [
        {
          "output_type": "stream",
          "text": [
            "（1月23日公表分）新型コロナウイルスの感染の確認等について（125・173・182・198-2・258・271・282・286・292～294事例目及び新規2事例）（PDF：155KB）\n"
          ],
          "name": "stdout"
        }
      ]
    },
    {
      "cell_type": "code",
      "metadata": {
        "id": "mLeKM27lh4qx"
      },
      "source": [
        "# PDFのURLを作成\r\n",
        "link1 = urljoin(url, tag1.get(\"href\"))"
      ],
      "execution_count": 11,
      "outputs": []
    },
    {
      "cell_type": "code",
      "metadata": {
        "id": "uII6BbqLucwG"
      },
      "source": [
        "# PDFファイルをダウンロード\r\n",
        "text1 = fetch_text(link1)"
      ],
      "execution_count": 12,
      "outputs": []
    },
    {
      "cell_type": "code",
      "metadata": {
        "colab": {
          "base_uri": "https://localhost:8080/"
        },
        "id": "Hisu2ufNipNi",
        "outputId": "8897fc7a-80a7-4889-df42-6cbb611b0bfc"
      },
      "source": [
        "# テキスト確認\r\n",
        "print(text1)"
      ],
      "execution_count": 13,
      "outputs": [
        {
          "output_type": "stream",
          "text": [
            "910 人目 \n",
            "\n",
            "~\n",
            "931 人目 \n",
            "\n",
            " \n",
            "\n",
            "10 歳未満:1名 \n",
            "10 代    :1名 \n",
            "20 代    :2名 \n",
            "30 代    :4名 \n",
            "50 代    :4名 \n",
            "60 代    :1名 \n",
            "70 代    :1名 \n",
            "80 代    :3名 \n",
            "90 代    :5名 \n",
            "\n",
            "あり \n",
            "\n",
            "なし \n",
            " \n",
            "\n",
            " \n",
            " \n",
            "\n",
            "8名 \n",
            " \n",
            "\n",
            "愛媛県保健福祉部健康衛生局 \n",
            "健康増進課(内線 2402) \n",
            "\n",
            "令和3年1月 23 日 \n",
            "\n",
            " \n",
            "\n",
            " \n",
            " \n",
            "\n",
            " \n",
            "\n",
            "新型コロナウイルスの感染の確認について \n",
            "\n",
            "昨日(1月 22 日)、県内で新型コロナウイルスの陽性者が 22 名確認されました。 \n",
            "積極的疫学調査及び健康観察等を実施してまいります。 \n",
            "\n",
            " \n",
            "○既存・新規人数 \n",
            "・濃厚接触者及び接触者の検査により判明した陽性者数:20 名 \n",
            "・上記以外の検査により新たに判明した陽性者数      :2名 \n",
            " \n",
            "○陽性者の概要 \n",
            "陽性者 \n",
            "\n",
            "居住地 \n",
            "\n",
            "年代 \n",
            "\n",
            "性別 \n",
            "\n",
            "職業 \n",
            "\n",
            "男性:10 名 \n",
            " \n",
            "女性:12 名 \n",
            "\n",
            "松山市    :12 名 \n",
            "今治市    :1名 \n",
            "大洲市    :1名 \n",
            "四国中央市:5名 \n",
            "西予市    :2名 \n",
            "東温市    :1名 \n",
            "\n",
            "公務員    :1名 \n",
            "会社員    :3名 \n",
            "福祉関係  :3名 \n",
            "学校関係  :5名 \n",
            "無  職    :10 名 \n",
            "\n",
            " \n",
            "○症状の有無                               ○感染経路等 \n",
            "\n",
            "       14 名 ※全て軽症 \n",
            "\n",
            "  家庭内 \n",
            "\n",
            "  同僚・職場内 \n",
            "\n",
            "  医療機関・社会福祉施設等内 \n",
            "  生活上の接触 \n",
            "  調査中 \n",
            " \n",
            "\n",
            " \n",
            "※現段階の調査で感染経路の可能性が推測される \n",
            "\n",
            ":5名 \n",
            "\n",
            ":4名 \n",
            "\n",
            ":10 名 \n",
            ":1名 \n",
            ":2名 \n",
            " \n",
            "\n",
            " \n",
            "\n",
            "   \n",
            "\n",
            " \n",
            "\n",
            " \n",
            "\n",
            " \n",
            " \n",
            "○クラスターの状況(陽性者の概要等は上記に含まれる) \n",
            "\n",
            "場面等 \n",
            "\n",
            "事例 \n",
            "\n",
            "125 事例目 \n",
            "\n",
            "新たな陽性者 \n",
            "医療機関以外 \n",
            "の者2名 \n",
            "\n",
            "173 事例目  警察署1名 \n",
            "\n",
            "198-2 事例目  入所者1名 \n",
            "\n",
            "258 事例目 \n",
            "\n",
            "職  員1名 \n",
            "入所者1名 \n",
            "\n",
            "271 事例目  入所者5名 \n",
            "                         \n",
            "\n",
            "陽性者の状況 \n",
            "\n",
            "医療機関クラスター2 \n",
            "累計陽性者 24 名(職員 6 名、患者 7 名、医療機関以外の者 11 名(+2)) \n",
            "職場内クラスター3 \n",
            "累計陽性者 18 名(警察署 14 名(+1)、警察署以外の者 4 名) \n",
            "高齢者施設クラスター4 \n",
            "累計陽性者 8 名(職員 3 名、入所者 5 名(+1)) \n",
            "※職員1名は、198-1 事例目に計上。 \n",
            "高齢者施設クラスター6 \n",
            "累計陽性者 6 名(職員 4 名(+1)、入所者 1 名(+1)、施設以外の者 1 名) \n",
            "高齢者施設クラスター5 \n",
            "累計陽性者 22 名(職員 5 名、入所者 14 名(+5)、施設以外の者 3 名) \n",
            "\n",
            "県では、感染症法第 16 条第1項の規定に基づき、感染症の予防のための情報の公表を\n",
            "行いますが、同第2項により個人情報の保護に留意する必要があります。 \n",
            "報道機関各位におかれては、報道に当たり、プライバシー保護に御配慮ください。 \n",
            "\n",
            "\f\n"
          ],
          "name": "stdout"
        }
      ]
    },
    {
      "cell_type": "markdown",
      "metadata": {
        "id": "5ZbNclQ-pIZE"
      },
      "source": [
        "# 出力"
      ]
    },
    {
      "cell_type": "markdown",
      "metadata": {
        "id": "Avs4fl9CmavB"
      },
      "source": [
        "### 全体"
      ]
    },
    {
      "cell_type": "code",
      "metadata": {
        "colab": {
          "base_uri": "https://localhost:8080/"
        },
        "id": "GyFcRn6diNMR",
        "outputId": "a8e241cb-6b8d-4e28-e146-8a8e68b228da"
      },
      "source": [
        "m1 = re.search(\"昨日\\((.+)\\)、県内で新型コロナウイルスの陽性者が(.+)名確認されました。\", text1)\r\n",
        "s1 = m1.group(0).replace(\" \", \"\")\r\n",
        "print(s1)"
      ],
      "execution_count": 14,
      "outputs": [
        {
          "output_type": "stream",
          "text": [
            "昨日(1月22日)、県内で新型コロナウイルスの陽性者が22名確認されました。\n"
          ],
          "name": "stdout"
        }
      ]
    },
    {
      "cell_type": "markdown",
      "metadata": {
        "id": "zcXn207smdSK"
      },
      "source": [
        "### 既存事例"
      ]
    },
    {
      "cell_type": "code",
      "metadata": {
        "colab": {
          "base_uri": "https://localhost:8080/"
        },
        "id": "4TEUqsbwihqL",
        "outputId": "9770766f-2107-4d63-afd8-8c3b37015560"
      },
      "source": [
        "m2 = re.search(\"濃厚接触者及び接触者の検査により判明した陽性者数 *:(.+)名\", text1)\r\n",
        "s2 = m2.group(0).replace(\" \", \"\")\r\n",
        "print(s2)"
      ],
      "execution_count": 15,
      "outputs": [
        {
          "output_type": "stream",
          "text": [
            "濃厚接触者及び接触者の検査により判明した陽性者数:20名\n"
          ],
          "name": "stdout"
        }
      ]
    },
    {
      "cell_type": "markdown",
      "metadata": {
        "id": "C6FRus4Nmhsj"
      },
      "source": [
        "### 新規事例"
      ]
    },
    {
      "cell_type": "code",
      "metadata": {
        "colab": {
          "base_uri": "https://localhost:8080/"
        },
        "id": "rl1crq-pjSJK",
        "outputId": "72d6d627-5a70-4663-cb37-18b313278dea"
      },
      "source": [
        "m3 = re.search(\"上記以外の検査により新たに判明した陽性者数 *:(.+)名\", text1)\r\n",
        "s3 = m3.group(0).replace(\" \", \"\")\r\n",
        "print(s3)"
      ],
      "execution_count": 16,
      "outputs": [
        {
          "output_type": "stream",
          "text": [
            "上記以外の検査により新たに判明した陽性者数:2名\n"
          ],
          "name": "stdout"
        }
      ]
    },
    {
      "cell_type": "markdown",
      "metadata": {
        "id": "6JLzV5MlnJy1"
      },
      "source": [
        "### 文章結合"
      ]
    },
    {
      "cell_type": "code",
      "metadata": {
        "colab": {
          "base_uri": "https://localhost:8080/"
        },
        "id": "Tys3u8Xhm7vk",
        "outputId": "fd5fd696-5964-40a2-c8f2-2d3475f00d7e"
      },
      "source": [
        "print(f\"{s1}\\n{s2}\\n{s3}\")"
      ],
      "execution_count": 17,
      "outputs": [
        {
          "output_type": "stream",
          "text": [
            "昨日(1月22日)、県内で新型コロナウイルスの陽性者が22名確認されました。\n",
            "濃厚接触者及び接触者の検査により判明した陽性者数:20名\n",
            "上記以外の検査により新たに判明した陽性者数:2名\n"
          ],
          "name": "stdout"
        }
      ]
    },
    {
      "cell_type": "markdown",
      "metadata": {
        "id": "s3CyRZVfvaNt"
      },
      "source": [
        "# 愛媛県内の状況"
      ]
    },
    {
      "cell_type": "code",
      "metadata": {
        "id": "x9lKBuE1vxb2"
      },
      "source": [
        "# 記事は上から3番目\r\n",
        "tag2 = tags[2]"
      ],
      "execution_count": 18,
      "outputs": []
    },
    {
      "cell_type": "code",
      "metadata": {
        "colab": {
          "base_uri": "https://localhost:8080/"
        },
        "id": "61Yue484vxhb",
        "outputId": "6abd78a4-44e4-4f89-87c3-c8c8f24cb284"
      },
      "source": [
        "# タイトル確認\r\n",
        "title2 = tag2.get_text(strip=True)\r\n",
        "print(title2)"
      ],
      "execution_count": 19,
      "outputs": [
        {
          "output_type": "stream",
          "text": [
            "（1月23日9時現在）愛媛県内の状況（PDF：315KB）\n"
          ],
          "name": "stdout"
        }
      ]
    },
    {
      "cell_type": "code",
      "metadata": {
        "id": "0YedIuc3v47t"
      },
      "source": [
        "# PDFのURLを作成\r\n",
        "link2 = urljoin(url, tag2.get(\"href\"))"
      ],
      "execution_count": 20,
      "outputs": []
    },
    {
      "cell_type": "code",
      "metadata": {
        "id": "QbuoUo0Gv7hU"
      },
      "source": [
        "# PDFファイルをダウンロード\r\n",
        "text2 = fetch_text(link2)"
      ],
      "execution_count": 21,
      "outputs": []
    },
    {
      "cell_type": "code",
      "metadata": {
        "colab": {
          "base_uri": "https://localhost:8080/"
        },
        "id": "3j81zpNDvam1",
        "outputId": "4376d987-a986-4a8f-94eb-06679875aed2"
      },
      "source": [
        "# テキスト確認\r\n",
        "print(text2)"
      ],
      "execution_count": 22,
      "outputs": [
        {
          "output_type": "stream",
          "text": [
            "愛 媛 県 内 の 状 況\n",
            "\n",
            "【 R3.1.23 9時現在 】\n",
            "\n",
            "事 例\n",
            "\n",
            "公表日 検査数\n",
            "\n",
            "陰 性\n",
            "\n",
            "陽 性\n",
            "\n",
            "関係者\n",
            "調査\n",
            "\n",
            "PCR\n",
            "検査\n",
            "\n",
            "健康\n",
            "観察\n",
            "\n",
            "5,081\n",
            "\n",
            "4,538\n",
            "\n",
            "543\n",
            "\n",
            "<封じ込め事例>\n",
            "\n",
            "対処事例1:194事例\n",
            "※193、252、262:欠番\n",
            "\n",
            "松山市保健所:3事例\n",
            "(192、196、201事例目)\n",
            "\n",
            "今治保健所:1事例\n",
            "(263事例目)\n",
            "\n",
            "宇和島保健所:1事例\n",
            "(197事例目)\n",
            "\n",
            "<囲い込み事例>\n",
            "\n",
            "対処事例2\n",
            "(136、156-2、160、163、\n",
            "169、186、189、194、\n",
            "198-1、199、200、\n",
            "202~209、211、\n",
            "213、214、216~218、\n",
            "221~223、225~228、\n",
            "230、231、232、233、\n",
            "234、236~242、244、\n",
            "246、248~251、254、\n",
            "255、256、257、259、\n",
            "265~268、270、\n",
            "273事例目)\n",
            " 125事例目\n",
            "【会食3、医療機関2】\n",
            "198-2事例目\n",
            "【高齢者施設4】\n",
            "178事例目\n",
            "(松山市保健所)\n",
            "215事例目\n",
            "(八幡浜保健所)\n",
            "松山市保健所:4事例\n",
            "(156-1、253、260、\n",
            "280事例目)\n",
            "\n",
            "四国中央保健所:1事例\n",
            "(235事例目)\n",
            "\n",
            "西条保健所:1事例\n",
            "(275事例目)\n",
            "\n",
            "今治保健所:1事例\n",
            "(272事例目)\n",
            "\n",
            "八幡浜保健所:2事例\n",
            "(276、277事例目)\n",
            "\n",
            "20\n",
            "\n",
            "1\n",
            "\n",
            "20\n",
            "\n",
            "15\n",
            "\n",
            "0\n",
            "\n",
            "19\n",
            "\n",
            "12/25\n",
            "\n",
            "1/16\n",
            "\n",
            "1/7\n",
            "\n",
            "1/11\n",
            "\n",
            "(2)\n",
            "388\n",
            "(17)\n",
            "59\n",
            "(1)\n",
            "33\n",
            "(52)\n",
            "155\n",
            "\n",
            "153\n",
            "\n",
            "2\n",
            "\n",
            "27\n",
            "(4)\n",
            "6\n",
            "\n",
            "26\n",
            "\n",
            "359\n",
            "(16)\n",
            "52\n",
            "(1)\n",
            "30\n",
            "(52)\n",
            "151\n",
            "\n",
            "113\n",
            "\n",
            "1\n",
            "\n",
            "25\n",
            "(4)\n",
            "5\n",
            "\n",
            "24\n",
            "\n",
            "●\n",
            "\n",
            "●\n",
            "\n",
            "●\n",
            "\n",
            "●\n",
            "\n",
            "●\n",
            "\n",
            "●\n",
            "\n",
            "●\n",
            "\n",
            "●\n",
            "\n",
            "●\n",
            "\n",
            "●\n",
            "\n",
            "●\n",
            "\n",
            "●\n",
            "\n",
            "●\n",
            "\n",
            "5\n",
            "\n",
            "1\n",
            "\n",
            "1\n",
            "\n",
            "(2)\n",
            "29\n",
            "(1)\n",
            "7\n",
            "\n",
            "40\n",
            "\n",
            "3\n",
            "\n",
            "4\n",
            "\n",
            "1\n",
            "\n",
            "2\n",
            "\n",
            "1\n",
            "\n",
            "2\n",
            "\n",
            "●\n",
            "\n",
            "●\n",
            "\n",
            "●\n",
            "\n",
            "●\n",
            "\n",
            "●\n",
            "\n",
            "●\n",
            "\n",
            "●\n",
            "\n",
            "●\n",
            "\n",
            "●\n",
            "\n",
            "●\n",
            "\n",
            "●\n",
            "\n",
            "●\n",
            "\n",
            "●\n",
            "\n",
            "●\n",
            "\n",
            "●\n",
            "\n",
            "●\n",
            "\n",
            "●\n",
            "\n",
            "〇\n",
            "\n",
            "〇\n",
            "\n",
            "〇\n",
            "\n",
            "〇\n",
            "\n",
            "〇\n",
            "\n",
            "〇\n",
            "\n",
            "〇\n",
            "\n",
            "〇\n",
            "\n",
            "〇\n",
            "\n",
            "1,631\n",
            "\n",
            "1,442\n",
            "\n",
            "189\n",
            "\n",
            "●\n",
            "\n",
            "●\n",
            "\n",
            "○\n",
            "\n",
            "\f愛 媛 県 内 の 状 況\n",
            "\n",
            "【 R3.1.23 9時現在 】\n",
            "\n",
            "<調査中事例>\n",
            "\n",
            "対処事例3\n",
            "(220、269、274、\n",
            "279、283、285、\n",
            "287~291事例目)\n",
            "\n",
            "173事例目\n",
            "【今治警察署】\n",
            "258事例目\n",
            "【高齢者施設6】\n",
            "271事例目\n",
            "【高齢者施設5】\n",
            "182事例目\n",
            "(松山市保健所)\n",
            "282事例目\n",
            "(松山市保健所)\n",
            "286事例目\n",
            "(松山市保健所)\n",
            "292事例目\n",
            "(松山市保健所)\n",
            "293事例目\n",
            "(松山市保健所)\n",
            "294事例目\n",
            "(松山市保健所)\n",
            "278事例目\n",
            "(松山市保健所)\n",
            "281事例目\n",
            "(松山市保健所)\n",
            "284事例目\n",
            "(松山市保健所)\n",
            "295事例目\n",
            "(松山市保健所)\n",
            "296事例目\n",
            "(松山市保健所)\n",
            "新規事例\n",
            "2事例合計\n",
            "\n",
            "新\n",
            "\n",
            "上記\n",
            "以外\n",
            "\n",
            "PCR検査\n",
            "\n",
            "抗原検査\n",
            "\n",
            "合 計\n",
            "\n",
            "1/7\n",
            "\n",
            "1/18\n",
            "\n",
            "1/19\n",
            "\n",
            "1/7\n",
            "\n",
            "1/20\n",
            "\n",
            "1/21\n",
            "\n",
            "1/22\n",
            "\n",
            "1/22\n",
            "\n",
            "1/22\n",
            "\n",
            "1/20\n",
            "\n",
            "1/20\n",
            "\n",
            "1/21\n",
            "\n",
            "1/22\n",
            "\n",
            "1/22\n",
            "\n",
            "1/23\n",
            "\n",
            "94\n",
            "\n",
            "73\n",
            "\n",
            "(1)\n",
            "221\n",
            "(3)\n",
            "59\n",
            "(36)\n",
            "115\n",
            "(1)\n",
            "54\n",
            "(5)\n",
            "25\n",
            "(50)\n",
            "54\n",
            "(1)\n",
            "2\n",
            "(6)\n",
            "7\n",
            "(77)\n",
            "78\n",
            "(3)\n",
            "130\n",
            "(30)\n",
            "34\n",
            "(2)\n",
            "13\n",
            "(1)\n",
            "2\n",
            "(7)\n",
            "8\n",
            "(2)\n",
            "2\n",
            "(19)\n",
            "5,563\n",
            "\n",
            "203\n",
            "(1)\n",
            "53\n",
            "(31)\n",
            "93\n",
            "\n",
            "48\n",
            "(2)\n",
            "17\n",
            "(49)\n",
            "50\n",
            "\n",
            "0\n",
            "(5)\n",
            "5\n",
            "(75)\n",
            "75\n",
            "(3)\n",
            "127\n",
            "(30)\n",
            "31\n",
            "(2)\n",
            "12\n",
            "(1)\n",
            "1\n",
            "(7)\n",
            "7\n",
            "\n",
            "0\n",
            "(19)\n",
            "5,563\n",
            "\n",
            "8,544\n",
            "(320)\n",
            "22,607\n",
            "\n",
            "8,544\n",
            "(298)\n",
            "21,676\n",
            "\n",
            "〇\n",
            "\n",
            "〇\n",
            "\n",
            "〇\n",
            "\n",
            "〇\n",
            "\n",
            "〇\n",
            "\n",
            "〇\n",
            "\n",
            "〇\n",
            "\n",
            "〇\n",
            "\n",
            "〇\n",
            "\n",
            "〇\n",
            "\n",
            "〇\n",
            "\n",
            "〇\n",
            "\n",
            "〇\n",
            "\n",
            "〇\n",
            "\n",
            "〇\n",
            "\n",
            "〇\n",
            "\n",
            "-\n",
            "\n",
            "21\n",
            "\n",
            "(1)\n",
            "18\n",
            "(2)\n",
            "6\n",
            "(5)\n",
            "22\n",
            "(1)\n",
            "6\n",
            "(3)\n",
            "8\n",
            "(1)\n",
            "4\n",
            "(1)\n",
            "2\n",
            "(1)\n",
            "2\n",
            "(2)\n",
            "3\n",
            "\n",
            "3\n",
            "\n",
            "3\n",
            "\n",
            "1\n",
            "\n",
            "1\n",
            "\n",
            "1\n",
            "(2)\n",
            "2\n",
            "-\n",
            "\n",
            "(22)\n",
            "931\n",
            "\n",
            "〇\n",
            "\n",
            "〇\n",
            "\n",
            "〇\n",
            "\n",
            "〇\n",
            "\n",
            "〇\n",
            "\n",
            "〇\n",
            "\n",
            "〇\n",
            "\n",
            "〇\n",
            "\n",
            "〇\n",
            "\n",
            "〇\n",
            "\n",
            "〇\n",
            "\n",
            "〇\n",
            "\n",
            "〇\n",
            "\n",
            "〇\n",
            "\n",
            "〇\n",
            "\n",
            "〇\n",
            "\n",
            "-\n",
            "\n",
            "〇\n",
            "\n",
            "〇\n",
            "\n",
            "〇\n",
            "\n",
            "〇\n",
            "\n",
            "〇\n",
            "\n",
            "〇\n",
            "\n",
            "〇\n",
            "\n",
            "〇\n",
            "\n",
            "〇\n",
            "\n",
            "〇\n",
            "\n",
            "〇\n",
            "\n",
            "〇\n",
            "\n",
            "〇\n",
            "\n",
            "〇\n",
            "\n",
            "〇\n",
            "\n",
            "〇\n",
            "\n",
            "-\n",
            "\n",
            " ※上記の( )内の検査数は、対応中の事例に関して昨日実施した検査並びに衛生環境研究所及び地域\n",
            "   外来・検査センターで実施した検査の件数です。\n",
            "   診療・検査医療機関でも別途、検査が実施されています。\n",
            "   診療・検査医療機関での検査数は毎週金曜日に1週間の合計数を計上します。\n",
            "\n",
            "【凡例】●:接触者特定済、検査完了、健康観察終了\n",
            "○:接触者特定中、検査中、 健康観察中○\n",
            "\n",
            "\f県内における新型コロナウイルス感染症患者の発生状況について\n",
            "\n",
            "検査陽性者の状況 (1月23日 9時現在)\n",
            "\n",
            "感染者\n",
            "(累積)\n",
            "\n",
            "入院中\n",
            "\n",
            "医療機関\n",
            "\n",
            "入院予定\n",
            "を含む\n",
            "\n",
            "入院予定\n",
            "を含む\n",
            "\n",
            "軽 症\n",
            "無症状\n",
            "を含む\n",
            "\n",
            "重 症\n",
            "人工呼吸器\n",
            "集中治療等\n",
            "\n",
            "宿泊療養\n",
            "施設\n",
            "入所予定\n",
            "を含む\n",
            "\n",
            "死 亡\n",
            "\n",
            "退院等\n",
            "\n",
            "931人\n",
            "\n",
            "103人\n",
            "\n",
            "68人\n",
            "\n",
            "65人\n",
            "\n",
            "3人\n",
            "\n",
            "35人\n",
            "\n",
            "17人\n",
            "\n",
            "710人\n",
            "\n",
            "(+22)\n",
            "\n",
            "自宅療養等\n",
            "\n",
            "(+1)\n",
            "\n",
            "(+1)\n",
            "\n",
            "(△1)\n",
            "\n",
            "(+27)\n",
            "\n",
            "101人\n",
            "\n",
            "(△5)\n",
            "\n",
            "\f\n"
          ],
          "name": "stdout"
        }
      ]
    },
    {
      "cell_type": "code",
      "metadata": {
        "colab": {
          "base_uri": "https://localhost:8080/"
        },
        "id": "MBrhlGlYwfQ-",
        "outputId": "ff039a93-ad41-491f-953d-949726510122"
      },
      "source": [
        "m4 = re.search(\"^新規事例\\n(\\d+)事例合計\", text2, re.MULTILINE | re.DOTALL)\r\n",
        "s4 = m4.group(0).replace(\" \", \"\")\r\n",
        "print(s4)"
      ],
      "execution_count": 23,
      "outputs": [
        {
          "output_type": "stream",
          "text": [
            "新規事例\n",
            "2事例合計\n"
          ],
          "name": "stdout"
        }
      ]
    },
    {
      "cell_type": "markdown",
      "metadata": {
        "id": "IqDQvA9lnjLD"
      },
      "source": [
        "# 抽出"
      ]
    },
    {
      "cell_type": "code",
      "metadata": {
        "id": "mUbRPKnqnTPS"
      },
      "source": [
        "result = {}"
      ],
      "execution_count": 24,
      "outputs": []
    },
    {
      "cell_type": "code",
      "metadata": {
        "id": "ySxFgjSInZEL"
      },
      "source": [
        "result[\"日付\"] = m1.group(1).replace(\" \", \"\")\r\n",
        "result[\"全体人数\"] = m1.group(2).replace(\" \", \"\")\r\n",
        "result[\"既存人数\"] = m2.group(1).replace(\" \", \"\")\r\n",
        "result[\"新規人数\"] = m3.group(1).replace(\" \", \"\")\r\n",
        "result[\"新規事例\"] = m4.group(1).replace(\" \", \"\")"
      ],
      "execution_count": 25,
      "outputs": []
    },
    {
      "cell_type": "code",
      "metadata": {
        "colab": {
          "base_uri": "https://localhost:8080/"
        },
        "id": "jsz2QiJ4oLPb",
        "outputId": "4bbb0cec-d8ea-48aa-9ea2-b81d76d663dd"
      },
      "source": [
        "print(result)"
      ],
      "execution_count": 26,
      "outputs": [
        {
          "output_type": "stream",
          "text": [
            "{'日付': '1月22日', '全体人数': '22', '既存人数': '20', '新規人数': '2', '新規事例': '2'}\n"
          ],
          "name": "stdout"
        }
      ]
    },
    {
      "cell_type": "code",
      "metadata": {
        "colab": {
          "base_uri": "https://localhost:8080/"
        },
        "id": "Ipcp6y7Xo-Nk",
        "outputId": "a1393068-e57a-443a-ccd9-f5b2e3e12dec"
      },
      "source": [
        "twit = f'{result[\"日付\"]}\\n全体{result[\"全体人数\"]}名\\n既存事例{result[\"既存人数\"]}名\\n新規{result[\"新規事例\"]}事例{result[\"新規人数\"]}名'\r\n",
        "print(twit)"
      ],
      "execution_count": 27,
      "outputs": [
        {
          "output_type": "stream",
          "text": [
            "1月22日\n",
            "全体22名\n",
            "既存事例20名\n",
            "新規2事例2名\n"
          ],
          "name": "stdout"
        }
      ]
    }
  ]
}