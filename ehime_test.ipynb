{
  "nbformat": 4,
  "nbformat_minor": 0,
  "metadata": {
    "colab": {
      "name": "ehime_test.ipynb",
      "provenance": [],
      "collapsed_sections": [],
      "authorship_tag": "ABX9TyOhRkA0u6Wkxw9DQdz8A1he",
      "include_colab_link": true
    },
    "kernelspec": {
      "name": "python3",
      "display_name": "Python 3"
    }
  },
  "cells": [
    {
      "cell_type": "markdown",
      "metadata": {
        "id": "view-in-github",
        "colab_type": "text"
      },
      "source": [
        "<a href=\"https://colab.research.google.com/github/imabari/ehime-covid-bot/blob/main/ehime_test.ipynb\" target=\"_parent\"><img src=\"https://colab.research.google.com/assets/colab-badge.svg\" alt=\"Open In Colab\"/></a>"
      ]
    },
    {
      "cell_type": "markdown",
      "metadata": {
        "id": "ci4GTON8kiNr"
      },
      "source": [
        "# インストール"
      ]
    },
    {
      "cell_type": "code",
      "metadata": {
        "id": "mlHgyqGIg3tB"
      },
      "source": [
        "!pip install pdfminer.six"
      ],
      "execution_count": null,
      "outputs": []
    },
    {
      "cell_type": "markdown",
      "metadata": {
        "id": "omCFyJoikmA6"
      },
      "source": [
        "# プログラム"
      ]
    },
    {
      "cell_type": "markdown",
      "metadata": {
        "id": "4meu8-YrkpQZ"
      },
      "source": [
        "## 設定"
      ]
    },
    {
      "cell_type": "code",
      "metadata": {
        "id": "8-3nWbLZgDFH"
      },
      "source": [
        "import datetime\r\n",
        "import pathlib\r\n",
        "import re\r\n",
        "import unicodedata\r\n",
        "from urllib.parse import urljoin"
      ],
      "execution_count": null,
      "outputs": []
    },
    {
      "cell_type": "code",
      "metadata": {
        "id": "6yir9jLkgQpW"
      },
      "source": [
        "from pdfminer.high_level import extract_text\r\n",
        "import requests\r\n",
        "import tweepy\r\n",
        "from bs4 import BeautifulSoup"
      ],
      "execution_count": null,
      "outputs": []
    },
    {
      "cell_type": "code",
      "metadata": {
        "id": "V_jQfCB4gWfW"
      },
      "source": [
        "# 愛媛県の新型コロナウイルス感染症に関する情報\r\n",
        "url = \"https://www.pref.ehime.jp/h25500/kansen/covid19.html\""
      ],
      "execution_count": null,
      "outputs": []
    },
    {
      "cell_type": "markdown",
      "metadata": {
        "id": "hxOniDeZkuEK"
      },
      "source": [
        "## 関数"
      ]
    },
    {
      "cell_type": "code",
      "metadata": {
        "id": "obJnQEA7gQsG"
      },
      "source": [
        "# スクレイピング\r\n",
        "def fetch_soup(url, parser=\"html.parser\"):\r\n",
        "\r\n",
        "    r = requests.get(url)\r\n",
        "    r.raise_for_status()\r\n",
        "\r\n",
        "    soup = BeautifulSoup(r.content, parser)\r\n",
        "\r\n",
        "    return soup"
      ],
      "execution_count": null,
      "outputs": []
    },
    {
      "cell_type": "code",
      "metadata": {
        "id": "Tn4Qd9vHgWcZ"
      },
      "source": [
        "# PDFファイルからテキスト抽出\r\n",
        "def fetch_text(url):\r\n",
        "\r\n",
        "    r = requests.get(url)\r\n",
        "\r\n",
        "    p = pathlib.Path(pathlib.PurePath(url).name)\r\n",
        "\r\n",
        "    with p.open(mode=\"wb\") as fw:\r\n",
        "        fw.write(r.content)\r\n",
        "\r\n",
        "    text = extract_text(p)\r\n",
        "\r\n",
        "    return unicodedata.normalize(\"NFKC\", text)"
      ],
      "execution_count": null,
      "outputs": []
    },
    {
      "cell_type": "markdown",
      "metadata": {
        "id": "oJEZAlcwk9bi"
      },
      "source": [
        "## スクレイピング"
      ]
    },
    {
      "cell_type": "code",
      "metadata": {
        "id": "roPFfuG6gb-C"
      },
      "source": [
        "soup = fetch_soup(url)"
      ],
      "execution_count": null,
      "outputs": []
    },
    {
      "cell_type": "code",
      "metadata": {
        "id": "fw4ujWPBgcBd"
      },
      "source": [
        "# 記事のリンクを抽出\r\n",
        "tags = soup.select(\"div#tmp_contents > ul > li > a\")"
      ],
      "execution_count": null,
      "outputs": []
    },
    {
      "cell_type": "markdown",
      "metadata": {
        "id": "MCTIBskIlZoC"
      },
      "source": [
        "## 新型コロナウイルスの感染の確認等について"
      ]
    },
    {
      "cell_type": "code",
      "metadata": {
        "id": "4a1gAPrNiQOz"
      },
      "source": [
        "# 最新記事は上から4番目\r\n",
        "tag1 = tags[3]"
      ],
      "execution_count": null,
      "outputs": []
    },
    {
      "cell_type": "code",
      "metadata": {
        "id": "KrrlAYcBgcEv"
      },
      "source": [
        "# タイトル確認\r\n",
        "title1 = tag1.get_text(strip=True)\r\n",
        "print(title1)"
      ],
      "execution_count": null,
      "outputs": []
    },
    {
      "cell_type": "code",
      "metadata": {
        "id": "mLeKM27lh4qx"
      },
      "source": [
        "# PDFのURLを作成\r\n",
        "link1 = urljoin(url, tag1.get(\"href\"))"
      ],
      "execution_count": null,
      "outputs": []
    },
    {
      "cell_type": "code",
      "metadata": {
        "id": "uII6BbqLucwG"
      },
      "source": [
        "# PDFファイルをダウンロード\r\n",
        "text1 = fetch_text(link1)"
      ],
      "execution_count": null,
      "outputs": []
    },
    {
      "cell_type": "code",
      "metadata": {
        "id": "Hisu2ufNipNi"
      },
      "source": [
        "# テキスト確認\r\n",
        "print(text1)"
      ],
      "execution_count": null,
      "outputs": []
    },
    {
      "cell_type": "markdown",
      "metadata": {
        "id": "5ZbNclQ-pIZE"
      },
      "source": [
        "# 出力"
      ]
    },
    {
      "cell_type": "markdown",
      "metadata": {
        "id": "Avs4fl9CmavB"
      },
      "source": [
        "### 全体"
      ]
    },
    {
      "cell_type": "code",
      "metadata": {
        "id": "GyFcRn6diNMR"
      },
      "source": [
        "s1 = \"\"\r\n",
        "m1 = re.search(\"昨日\\((.+)\\)、県内で新型コロナウイルスの陽性者が(.+)名確認されました。\", text1)\r\n",
        "\r\n",
        "if m1:\r\n",
        "    s1 = m1.group(0).replace(\" \", \"\")\r\n",
        "\r\n",
        "print(s1)"
      ],
      "execution_count": null,
      "outputs": []
    },
    {
      "cell_type": "markdown",
      "metadata": {
        "id": "zcXn207smdSK"
      },
      "source": [
        "### 既存事例"
      ]
    },
    {
      "cell_type": "code",
      "metadata": {
        "id": "4TEUqsbwihqL"
      },
      "source": [
        "s2 = \"\"\r\n",
        "m2 = re.search(\"濃厚接触者及び接触者の検査により判明した陽性者数 *:(.+)名\", text1)\r\n",
        "\r\n",
        "if m2:\r\n",
        "    s2 = m2.group(0).replace(\" \", \"\")\r\n",
        "\r\n",
        "print(s2)"
      ],
      "execution_count": null,
      "outputs": []
    },
    {
      "cell_type": "markdown",
      "metadata": {
        "id": "C6FRus4Nmhsj"
      },
      "source": [
        "### 新規事例"
      ]
    },
    {
      "cell_type": "code",
      "metadata": {
        "id": "rl1crq-pjSJK"
      },
      "source": [
        "s3 = \"\"\r\n",
        "m3 = re.search(\"上記以外の検査により新たに判明した陽性者数 *:(.+)名\", text1)\r\n",
        "\r\n",
        "if m3:\r\n",
        "    s3 = m3.group(0).replace(\" \", \"\")\r\n",
        "\r\n",
        "print(s3)"
      ],
      "execution_count": null,
      "outputs": []
    },
    {
      "cell_type": "markdown",
      "metadata": {
        "id": "6JLzV5MlnJy1"
      },
      "source": [
        "### 文章結合"
      ]
    },
    {
      "cell_type": "code",
      "metadata": {
        "id": "Tys3u8Xhm7vk"
      },
      "source": [
        "print(f\"{s1}\\n{s2}\\n{s3}\")"
      ],
      "execution_count": null,
      "outputs": []
    },
    {
      "cell_type": "markdown",
      "metadata": {
        "id": "s3CyRZVfvaNt"
      },
      "source": [
        "# 愛媛県内の状況"
      ]
    },
    {
      "cell_type": "code",
      "metadata": {
        "id": "x9lKBuE1vxb2"
      },
      "source": [
        "# 記事は上から3番目\r\n",
        "tag2 = tags[2]"
      ],
      "execution_count": null,
      "outputs": []
    },
    {
      "cell_type": "code",
      "metadata": {
        "id": "61Yue484vxhb"
      },
      "source": [
        "# タイトル確認\r\n",
        "title2 = tag2.get_text(strip=True)\r\n",
        "print(title2)"
      ],
      "execution_count": null,
      "outputs": []
    },
    {
      "cell_type": "code",
      "metadata": {
        "id": "0YedIuc3v47t"
      },
      "source": [
        "# PDFのURLを作成\r\n",
        "link2 = urljoin(url, tag2.get(\"href\"))"
      ],
      "execution_count": null,
      "outputs": []
    },
    {
      "cell_type": "code",
      "metadata": {
        "id": "QbuoUo0Gv7hU"
      },
      "source": [
        "# PDFファイルをダウンロード\r\n",
        "text2 = fetch_text(link2)"
      ],
      "execution_count": null,
      "outputs": []
    },
    {
      "cell_type": "code",
      "metadata": {
        "id": "3j81zpNDvam1"
      },
      "source": [
        "# テキスト確認\r\n",
        "print(text2)"
      ],
      "execution_count": null,
      "outputs": []
    },
    {
      "cell_type": "code",
      "metadata": {
        "id": "MBrhlGlYwfQ-"
      },
      "source": [
        "s4 = \"\"\r\n",
        "\r\n",
        "m4 = re.search(\"^新規事例\\n(\\d+)事例合計\", text2, re.MULTILINE | re.DOTALL)\r\n",
        "\r\n",
        "if m4:\r\n",
        "    s4 = m4.group(0).replace(\" \", \"\")\r\n",
        "print(s4)"
      ],
      "execution_count": null,
      "outputs": []
    },
    {
      "cell_type": "markdown",
      "metadata": {
        "id": "IqDQvA9lnjLD"
      },
      "source": [
        "# 抽出"
      ]
    },
    {
      "cell_type": "code",
      "metadata": {
        "id": "mUbRPKnqnTPS"
      },
      "source": [
        "result = {}"
      ],
      "execution_count": null,
      "outputs": []
    },
    {
      "cell_type": "code",
      "metadata": {
        "id": "ySxFgjSInZEL"
      },
      "source": [
        "result[\"日付\"] = m1.group(1).replace(\" \", \"\")\r\n",
        "result[\"全体人数\"] = m1.group(2).replace(\" \", \"\") if m1 else 0\r\n",
        "result[\"既存人数\"] = m2.group(1).replace(\" \", \"\") if m2 else 0\r\n",
        "result[\"新規人数\"] = m3.group(1).replace(\" \", \"\") if m3 else 0\r\n",
        "result[\"新規事例\"] = m4.group(1).replace(\" \", \"\") if m4 else 0"
      ],
      "execution_count": null,
      "outputs": []
    },
    {
      "cell_type": "code",
      "metadata": {
        "id": "jsz2QiJ4oLPb"
      },
      "source": [
        "print(result)"
      ],
      "execution_count": null,
      "outputs": []
    },
    {
      "cell_type": "code",
      "metadata": {
        "id": "Ipcp6y7Xo-Nk"
      },
      "source": [
        "twit = f'{result[\"日付\"]}\\n全体{result[\"全体人数\"]}名\\n既存事例{result[\"既存人数\"]}名\\n新規{result[\"新規事例\"]}事例{result[\"新規人数\"]}名'\r\n",
        "print(twit)"
      ],
      "execution_count": null,
      "outputs": []
    }
  ]
}