{
  "nbformat": 4,
  "nbformat_minor": 0,
  "metadata": {
    "colab": {
      "name": "ehime_covid_main.ipynb",
      "provenance": [],
      "authorship_tag": "ABX9TyNx+cvbc9qFXOn7z913+khg",
      "include_colab_link": true
    },
    "kernelspec": {
      "name": "python3",
      "display_name": "Python 3"
    }
  },
  "cells": [
    {
      "cell_type": "markdown",
      "metadata": {
        "id": "view-in-github",
        "colab_type": "text"
      },
      "source": [
        "<a href=\"https://colab.research.google.com/github/imabari/ehime-covid-bot/blob/main/ehime_covid_main.ipynb\" target=\"_parent\"><img src=\"https://colab.research.google.com/assets/colab-badge.svg\" alt=\"Open In Colab\"/></a>"
      ]
    },
    {
      "cell_type": "code",
      "metadata": {
        "id": "bFUJ7aijiJcE"
      },
      "source": [
        "!pip install pdfplumber"
      ],
      "execution_count": null,
      "outputs": []
    },
    {
      "cell_type": "code",
      "metadata": {
        "id": "dHddS-ytiO20"
      },
      "source": [
        "# GASのウェブアプリのURLを登録\r\n",
        "GAS_WEBAPPS = \"\""
      ],
      "execution_count": null,
      "outputs": []
    },
    {
      "cell_type": "code",
      "metadata": {
        "id": "xL16IXxAErJ5"
      },
      "source": [
        "import datetime\r\n",
        "import pathlib\r\n",
        "import re\r\n",
        "import unicodedata"
      ],
      "execution_count": null,
      "outputs": []
    },
    {
      "cell_type": "code",
      "metadata": {
        "id": "Xrb1YSdCGcIi"
      },
      "source": [
        "import json\r\n",
        "import pdfplumber\r\n",
        "import requests"
      ],
      "execution_count": null,
      "outputs": []
    },
    {
      "cell_type": "code",
      "metadata": {
        "id": "vL9tzEc4Pn4t"
      },
      "source": [
        "def fetch_file(url, dir=\".\"):\r\n",
        "\r\n",
        "    p = pathlib.Path(dir, pathlib.PurePath(url).name)\r\n",
        "    p.parent.mkdir(parents=True, exist_ok=True)\r\n",
        "\r\n",
        "    r = requests.get(url)\r\n",
        "\r\n",
        "    with p.open(mode=\"wb\") as fw:\r\n",
        "        fw.write(r.content)\r\n",
        "\r\n",
        "    return p"
      ],
      "execution_count": null,
      "outputs": []
    },
    {
      "cell_type": "code",
      "metadata": {
        "id": "BpZNBVzBPuY5"
      },
      "source": [
        "p = fetch_file(\"https://www.pref.ehime.jp/h25500/kansen/documents/kennai_link.pdf\")"
      ],
      "execution_count": null,
      "outputs": []
    },
    {
      "cell_type": "code",
      "metadata": {
        "id": "2Syx2E0PiO22"
      },
      "source": [
        "pdf = pdfplumber.open(p)"
      ],
      "execution_count": null,
      "outputs": []
    },
    {
      "cell_type": "code",
      "metadata": {
        "id": "HkSo13rlCKQr"
      },
      "source": [
        "JST = datetime.timezone(datetime.timedelta(hours=+9), \"JST\")\r\n",
        "dt_now = datetime.datetime.now(JST).replace(tzinfo=None)"
      ],
      "execution_count": null,
      "outputs": []
    },
    {
      "cell_type": "code",
      "metadata": {
        "id": "H2H--s7liO23"
      },
      "source": [
        "year = dt_now.year\r\n",
        "\r\n",
        "for page in pdf.pages[::-1]:\r\n",
        "\r\n",
        "    s = unicodedata.normalize(\"NFKC\", page.extract_text())\r\n",
        "\r\n",
        "    if s.startswith(\"県内における新型コロナウイルス感染症患者の発生状況について\"):\r\n",
        "\r\n",
        "        m = re.search(\"(\\d{1,2})月(\\d{1,2})日 +(\\d{1,2})時現在\", s)\r\n",
        "        month, day, hour = map(int, m.groups())\r\n",
        "\r\n",
        "        dt_date = datetime.datetime(year, month, day, hour)\r\n",
        "\r\n",
        "        if dt_date > dt_now:\r\n",
        "            dt_date = datetime.datetime(year - 1, month, day, hour)\r\n",
        "\r\n",
        "        data = [int(i.replace(\",\", \"\")) for i in re.findall(\"([0-9,]+)人\", s)]\r\n",
        "\r\n",
        "        print(dt_date, data)\r\n",
        "\r\n",
        "        if len(data) == 9:\r\n",
        "\r\n",
        "            url = GAS_WEBAPPS\r\n",
        "            headers = {\"Content-Type\": \"application/json\"}\r\n",
        "\r\n",
        "            json_data = json.dumps({\"data\": [dt_date.isoformat()] + data})\r\n",
        "            requests.post(url, json_data, headers=headers)\r\n",
        "\r\n",
        "        break"
      ],
      "execution_count": null,
      "outputs": []
    }
  ]
}