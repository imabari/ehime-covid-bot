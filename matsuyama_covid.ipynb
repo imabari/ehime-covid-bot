{
  "nbformat": 4,
  "nbformat_minor": 0,
  "metadata": {
    "colab": {
      "name": "matsuyama_covid.ipynb",
      "provenance": [],
      "authorship_tag": "ABX9TyPH5Hk8WbuY8qDXQT+Y59ks",
      "include_colab_link": true
    },
    "kernelspec": {
      "name": "python3",
      "display_name": "Python 3"
    }
  },
  "cells": [
    {
      "cell_type": "markdown",
      "metadata": {
        "id": "view-in-github",
        "colab_type": "text"
      },
      "source": [
        "<a href=\"https://colab.research.google.com/github/imabari/ehime-covid-bot/blob/main/matsuyama_covid.ipynb\" target=\"_parent\"><img src=\"https://colab.research.google.com/assets/colab-badge.svg\" alt=\"Open In Colab\"/></a>"
      ]
    },
    {
      "cell_type": "code",
      "metadata": {
        "colab": {
          "base_uri": "https://localhost:8080/"
        },
        "id": "Qq_fQmsLlaxQ",
        "outputId": "5ce95459-9177-4b10-f14b-482114b04b47"
      },
      "source": [
        "!pip install japanize-matplotlib"
      ],
      "execution_count": 1,
      "outputs": [
        {
          "output_type": "stream",
          "text": [
            "Collecting japanize-matplotlib\n",
            "\u001b[?25l  Downloading https://files.pythonhosted.org/packages/aa/85/08a4b7fe8987582d99d9bb7ad0ff1ec75439359a7f9690a0dbf2dbf98b15/japanize-matplotlib-1.1.3.tar.gz (4.1MB)\n",
            "\u001b[K     |████████████████████████████████| 4.1MB 5.5MB/s \n",
            "\u001b[?25hRequirement already satisfied: matplotlib in /usr/local/lib/python3.6/dist-packages (from japanize-matplotlib) (3.2.2)\n",
            "Requirement already satisfied: python-dateutil>=2.1 in /usr/local/lib/python3.6/dist-packages (from matplotlib->japanize-matplotlib) (2.8.1)\n",
            "Requirement already satisfied: kiwisolver>=1.0.1 in /usr/local/lib/python3.6/dist-packages (from matplotlib->japanize-matplotlib) (1.3.1)\n",
            "Requirement already satisfied: numpy>=1.11 in /usr/local/lib/python3.6/dist-packages (from matplotlib->japanize-matplotlib) (1.19.5)\n",
            "Requirement already satisfied: cycler>=0.10 in /usr/local/lib/python3.6/dist-packages (from matplotlib->japanize-matplotlib) (0.10.0)\n",
            "Requirement already satisfied: pyparsing!=2.0.4,!=2.1.2,!=2.1.6,>=2.0.1 in /usr/local/lib/python3.6/dist-packages (from matplotlib->japanize-matplotlib) (2.4.7)\n",
            "Requirement already satisfied: six>=1.5 in /usr/local/lib/python3.6/dist-packages (from python-dateutil>=2.1->matplotlib->japanize-matplotlib) (1.15.0)\n",
            "Building wheels for collected packages: japanize-matplotlib\n",
            "  Building wheel for japanize-matplotlib (setup.py) ... \u001b[?25l\u001b[?25hdone\n",
            "  Created wheel for japanize-matplotlib: filename=japanize_matplotlib-1.1.3-cp36-none-any.whl size=4120276 sha256=648d8e0cd3465062e8f6bfce63e6399c82dea5c6a2492a410c789fa8aa450a41\n",
            "  Stored in directory: /root/.cache/pip/wheels/b7/d9/a2/f907d50b32a2d2008ce5d691d30fb6569c2c93eefcfde55202\n",
            "Successfully built japanize-matplotlib\n",
            "Installing collected packages: japanize-matplotlib\n",
            "Successfully installed japanize-matplotlib-1.1.3\n"
          ],
          "name": "stdout"
        }
      ]
    },
    {
      "cell_type": "code",
      "metadata": {
        "id": "eSPP83eK6ZLe"
      },
      "source": [
        "import datetime\r\n",
        "import pandas as pd"
      ],
      "execution_count": 2,
      "outputs": []
    },
    {
      "cell_type": "code",
      "metadata": {
        "id": "_4BlIAjxFeyM"
      },
      "source": [
        "import matplotlib.pyplot as plt\r\n",
        "import matplotlib.dates as mdates"
      ],
      "execution_count": 3,
      "outputs": []
    },
    {
      "cell_type": "code",
      "metadata": {
        "id": "0bZmcn8vlaJ4"
      },
      "source": [
        "import japanize_matplotlib"
      ],
      "execution_count": 4,
      "outputs": []
    },
    {
      "cell_type": "code",
      "metadata": {
        "id": "LWiaUZuMF7Qt"
      },
      "source": [
        "import matplotlib as mpl\r\n",
        "mpl.rcParams[\"figure.dpi\"] = 200"
      ],
      "execution_count": 5,
      "outputs": []
    },
    {
      "cell_type": "code",
      "metadata": {
        "id": "SQY1U9BJlxrz"
      },
      "source": [
        "def str2date(ser):\r\n",
        "    df_date = (\r\n",
        "        ser.str.extract(\"令和(\\d{1,2})年度?(\\d{1,2})月(\\d{1,2})日\")\r\n",
        "        .rename(columns={0: \"year\", 1: \"month\", 2: \"day\"})\r\n",
        "        .astype(int)\r\n",
        "    )\r\n",
        "    df_date[\"year\"] = df_date[\"year\"].replace({2: 2020, 3: 2021})\r\n",
        "\r\n",
        "    return pd.to_datetime(df_date, errors=\"coerce\")"
      ],
      "execution_count": 6,
      "outputs": []
    },
    {
      "cell_type": "code",
      "metadata": {
        "id": "1pWDkPWLmY69"
      },
      "source": [
        "def str2normalize(df):\r\n",
        "    for col in df.select_dtypes(include=object).columns:\r\n",
        "        df[col] = df[col].str.strip().str.normalize(\"NFKC\").str.replace(\" \", \"\")\r\n",
        "    \r\n",
        "    return df"
      ],
      "execution_count": 7,
      "outputs": []
    },
    {
      "cell_type": "code",
      "metadata": {
        "id": "GzX3GjGa2q9Q"
      },
      "source": [
        "def str2data(ser):\r\n",
        "    df = (\r\n",
        "        ser.str.extractall(\r\n",
        "            \"(.+?):(\\d{1,3})人\",\r\n",
        "        )\r\n",
        "        .droplevel(1)\r\n",
        "        .rename(columns={0: ser.name, 1: \"人数\"})\r\n",
        "        .pivot(columns=ser.name, values=\"人数\")\r\n",
        "        .fillna(0)\r\n",
        "        .astype(int)\r\n",
        "    )\r\n",
        "    return df"
      ],
      "execution_count": 8,
      "outputs": []
    },
    {
      "cell_type": "markdown",
      "metadata": {
        "id": "bmON_TS9pqig"
      },
      "source": [
        "# 2020/03/～2021/01/04"
      ]
    },
    {
      "cell_type": "code",
      "metadata": {
        "id": "ZnqEYIU8iUPQ"
      },
      "source": [
        "urls = [\r\n",
        "    \"https://www.city.matsuyama.ehime.jp/kurashi/iryo/hokenyobo/kansensho/tyuui/mcovid_R0210made.html\",\r\n",
        "    \"https://www.city.matsuyama.ehime.jp/kurashi/iryo/hokenyobo/kansensho/tyuui/mcovid_R0211.html\",\r\n",
        "    \"https://www.city.matsuyama.ehime.jp/kurashi/iryo/hokenyobo/kansensho/tyuui/mcovid_R0212-01.html\",\r\n",
        "]"
      ],
      "execution_count": 9,
      "outputs": []
    },
    {
      "cell_type": "code",
      "metadata": {
        "id": "vmkJ3xNjikiN"
      },
      "source": [
        "dfs = [pd.read_html(url)[0].sort_index(ascending=False) for url in urls]"
      ],
      "execution_count": 10,
      "outputs": []
    },
    {
      "cell_type": "code",
      "metadata": {
        "id": "VoUaYXzZmt5O"
      },
      "source": [
        "df1 = str2normalize(pd.concat(dfs).reset_index(drop=True))"
      ],
      "execution_count": 11,
      "outputs": []
    },
    {
      "cell_type": "code",
      "metadata": {
        "id": "IlvXlxdp4hAW"
      },
      "source": [
        "df1[\"date\"] = str2date(df1[\"発表日\"])"
      ],
      "execution_count": 12,
      "outputs": []
    },
    {
      "cell_type": "code",
      "metadata": {
        "id": "Wh089MapRNzI"
      },
      "source": [
        "df1 = df1[~df1[\"市内事例（県内）\"].str.contains(\"陰性\")]"
      ],
      "execution_count": 13,
      "outputs": []
    },
    {
      "cell_type": "code",
      "metadata": {
        "id": "2OiWKh1K7fH1",
        "colab": {
          "base_uri": "https://localhost:8080/",
          "height": 424
        },
        "outputId": "ae9e851d-686e-42ed-9512-1bfcf883ff49"
      },
      "source": [
        "df1"
      ],
      "execution_count": 14,
      "outputs": [
        {
          "output_type": "execute_result",
          "data": {
            "text/html": [
              "<div>\n",
              "<style scoped>\n",
              "    .dataframe tbody tr th:only-of-type {\n",
              "        vertical-align: middle;\n",
              "    }\n",
              "\n",
              "    .dataframe tbody tr th {\n",
              "        vertical-align: top;\n",
              "    }\n",
              "\n",
              "    .dataframe thead th {\n",
              "        text-align: right;\n",
              "    }\n",
              "</style>\n",
              "<table border=\"1\" class=\"dataframe\">\n",
              "  <thead>\n",
              "    <tr style=\"text-align: right;\">\n",
              "      <th></th>\n",
              "      <th>番号</th>\n",
              "      <th>発表日</th>\n",
              "      <th>年代</th>\n",
              "      <th>性別</th>\n",
              "      <th>職業等</th>\n",
              "      <th>市内事例（県内）</th>\n",
              "      <th>date</th>\n",
              "    </tr>\n",
              "  </thead>\n",
              "  <tbody>\n",
              "    <tr>\n",
              "      <th>0</th>\n",
              "      <td>1</td>\n",
              "      <td>令和2年3月4日(PDF:136KB)</td>\n",
              "      <td>30代</td>\n",
              "      <td>女性</td>\n",
              "      <td>会社員</td>\n",
              "      <td>1事例目(県内2事例目)(外部サイト)</td>\n",
              "      <td>2020-03-04</td>\n",
              "    </tr>\n",
              "    <tr>\n",
              "      <th>1</th>\n",
              "      <td>2</td>\n",
              "      <td>令和2年3月18日(PDF:161KB)</td>\n",
              "      <td>30代</td>\n",
              "      <td>女性</td>\n",
              "      <td>会社員</td>\n",
              "      <td>2事例目(県内3事例目)</td>\n",
              "      <td>2020-03-18</td>\n",
              "    </tr>\n",
              "    <tr>\n",
              "      <th>3</th>\n",
              "      <td>4</td>\n",
              "      <td>令和2年3月31日(PDF:159KB)</td>\n",
              "      <td>70代</td>\n",
              "      <td>男性</td>\n",
              "      <td>自営業</td>\n",
              "      <td>4事例目(県内6事例目)</td>\n",
              "      <td>2020-03-31</td>\n",
              "    </tr>\n",
              "    <tr>\n",
              "      <th>4</th>\n",
              "      <td>4</td>\n",
              "      <td>令和2年3月31日(PDF:159KB)</td>\n",
              "      <td>80代</td>\n",
              "      <td>女性</td>\n",
              "      <td>無職</td>\n",
              "      <td>3事例目(県内5事例目)</td>\n",
              "      <td>2020-03-31</td>\n",
              "    </tr>\n",
              "    <tr>\n",
              "      <th>5</th>\n",
              "      <td>4</td>\n",
              "      <td>令和2年3月31日(PDF:159KB)</td>\n",
              "      <td>80代</td>\n",
              "      <td>男性</td>\n",
              "      <td>無職</td>\n",
              "      <td>3事例目(県内5事例目)</td>\n",
              "      <td>2020-03-31</td>\n",
              "    </tr>\n",
              "    <tr>\n",
              "      <th>...</th>\n",
              "      <td>...</td>\n",
              "      <td>...</td>\n",
              "      <td>...</td>\n",
              "      <td>...</td>\n",
              "      <td>...</td>\n",
              "      <td>...</td>\n",
              "      <td>...</td>\n",
              "    </tr>\n",
              "    <tr>\n",
              "      <th>422</th>\n",
              "      <td>117</td>\n",
              "      <td>令和3年1月4日(PDF:137KB)</td>\n",
              "      <td>50代</td>\n",
              "      <td>男性</td>\n",
              "      <td>会社員</td>\n",
              "      <td>118事例目(県内155事例目)</td>\n",
              "      <td>2021-01-04</td>\n",
              "    </tr>\n",
              "    <tr>\n",
              "      <th>423</th>\n",
              "      <td>117</td>\n",
              "      <td>令和3年1月4日(PDF:137KB)</td>\n",
              "      <td>非公表</td>\n",
              "      <td>男性</td>\n",
              "      <td>非公表</td>\n",
              "      <td>119事例目(県内156事例目)</td>\n",
              "      <td>2021-01-04</td>\n",
              "    </tr>\n",
              "    <tr>\n",
              "      <th>424</th>\n",
              "      <td>117</td>\n",
              "      <td>令和3年1月4日(PDF:137KB)</td>\n",
              "      <td>70代</td>\n",
              "      <td>女性</td>\n",
              "      <td>非公表</td>\n",
              "      <td>119事例目(県内156事例目)</td>\n",
              "      <td>2021-01-04</td>\n",
              "    </tr>\n",
              "    <tr>\n",
              "      <th>425</th>\n",
              "      <td>117</td>\n",
              "      <td>令和3年1月4日(PDF:137KB)</td>\n",
              "      <td>20代</td>\n",
              "      <td>男性</td>\n",
              "      <td>会社員</td>\n",
              "      <td>120事例目(県内157事例目)</td>\n",
              "      <td>2021-01-04</td>\n",
              "    </tr>\n",
              "    <tr>\n",
              "      <th>426</th>\n",
              "      <td>117</td>\n",
              "      <td>令和3年1月4日(PDF:137KB)</td>\n",
              "      <td>20代</td>\n",
              "      <td>男性</td>\n",
              "      <td>無職</td>\n",
              "      <td>121事例目(県内158事例目)</td>\n",
              "      <td>2021-01-04</td>\n",
              "    </tr>\n",
              "  </tbody>\n",
              "</table>\n",
              "<p>402 rows × 7 columns</p>\n",
              "</div>"
            ],
            "text/plain": [
              "      番号                   発表日   年代  性別  職業等             市内事例（県内）       date\n",
              "0      1   令和2年3月4日(PDF:136KB)  30代  女性  会社員  1事例目(県内2事例目)(外部サイト) 2020-03-04\n",
              "1      2  令和2年3月18日(PDF:161KB)  30代  女性  会社員         2事例目(県内3事例目) 2020-03-18\n",
              "3      4  令和2年3月31日(PDF:159KB)  70代  男性  自営業         4事例目(県内6事例目) 2020-03-31\n",
              "4      4  令和2年3月31日(PDF:159KB)  80代  女性   無職         3事例目(県内5事例目) 2020-03-31\n",
              "5      4  令和2年3月31日(PDF:159KB)  80代  男性   無職         3事例目(県内5事例目) 2020-03-31\n",
              "..   ...                   ...  ...  ..  ...                  ...        ...\n",
              "422  117   令和3年1月4日(PDF:137KB)  50代  男性  会社員     118事例目(県内155事例目) 2021-01-04\n",
              "423  117   令和3年1月4日(PDF:137KB)  非公表  男性  非公表     119事例目(県内156事例目) 2021-01-04\n",
              "424  117   令和3年1月4日(PDF:137KB)  70代  女性  非公表     119事例目(県内156事例目) 2021-01-04\n",
              "425  117   令和3年1月4日(PDF:137KB)  20代  男性  会社員     120事例目(県内157事例目) 2021-01-04\n",
              "426  117   令和3年1月4日(PDF:137KB)  20代  男性   無職     121事例目(県内158事例目) 2021-01-04\n",
              "\n",
              "[402 rows x 7 columns]"
            ]
          },
          "metadata": {
            "tags": []
          },
          "execution_count": 14
        }
      ]
    },
    {
      "cell_type": "markdown",
      "metadata": {
        "id": "KAtJPns8qBQX"
      },
      "source": [
        "# 2021/01/05～"
      ]
    },
    {
      "cell_type": "code",
      "metadata": {
        "id": "4FGf7l5t6Ry-"
      },
      "source": [
        "df2 = str2normalize(\r\n",
        "    pd.read_html(\r\n",
        "        \"https://www.city.matsuyama.ehime.jp/kurashi/iryo/hokenyobo/kansensho/tyuui/sinngatakorona.html\"\r\n",
        "    )[2]\r\n",
        "    .sort_index(ascending=False)\r\n",
        "    .dropna(thresh=3)\r\n",
        "    .drop_duplicates()\r\n",
        "    .reset_index(drop=True)\r\n",
        ")"
      ],
      "execution_count": 15,
      "outputs": []
    },
    {
      "cell_type": "code",
      "metadata": {
        "id": "aJkE5l9enS5c"
      },
      "source": [
        "df2[\"date\"] = str2date(df2[\"発表日\"])"
      ],
      "execution_count": 16,
      "outputs": []
    },
    {
      "cell_type": "code",
      "metadata": {
        "colab": {
          "base_uri": "https://localhost:8080/",
          "height": 1000
        },
        "id": "0QA9v8G7ozez",
        "outputId": "105cbefd-55ed-4765-e029-b63aed3a689e"
      },
      "source": [
        "df2"
      ],
      "execution_count": 17,
      "outputs": [
        {
          "output_type": "execute_result",
          "data": {
            "text/html": [
              "<div>\n",
              "<style scoped>\n",
              "    .dataframe tbody tr th:only-of-type {\n",
              "        vertical-align: middle;\n",
              "    }\n",
              "\n",
              "    .dataframe tbody tr th {\n",
              "        vertical-align: top;\n",
              "    }\n",
              "\n",
              "    .dataframe thead th {\n",
              "        text-align: right;\n",
              "    }\n",
              "</style>\n",
              "<table border=\"1\" class=\"dataframe\">\n",
              "  <thead>\n",
              "    <tr style=\"text-align: right;\">\n",
              "      <th></th>\n",
              "      <th>番号</th>\n",
              "      <th>発表日</th>\n",
              "      <th>年代</th>\n",
              "      <th>性別</th>\n",
              "      <th>職業等</th>\n",
              "      <th>事例</th>\n",
              "      <th>date</th>\n",
              "    </tr>\n",
              "  </thead>\n",
              "  <tbody>\n",
              "    <tr>\n",
              "      <th>0</th>\n",
              "      <td>118</td>\n",
              "      <td>令和3年1月5日(PDF:148KB)</td>\n",
              "      <td>20代:2人30代:3人40代:2人50代:5人非公表:7人</td>\n",
              "      <td>男性:10人女性:2人非公表:7人</td>\n",
              "      <td>無職:4人会社員:3人会社役員:2人自営業:1人アルバイト:1人非公表:8人</td>\n",
              "      <td>既存:10人新規:9人</td>\n",
              "      <td>2021-01-05</td>\n",
              "    </tr>\n",
              "    <tr>\n",
              "      <th>1</th>\n",
              "      <td>119</td>\n",
              "      <td>令和3年1月6日(PDF:152KB)</td>\n",
              "      <td>10代:3人20代:4人30代:2人40代:3人60代:5人70代:3人</td>\n",
              "      <td>男性:12人女性:8人</td>\n",
              "      <td>自営業:7人会社員:5人無職:4人学校関係者:3人医療関係者:1人</td>\n",
              "      <td>既存:13人新規:7人</td>\n",
              "      <td>2021-01-06</td>\n",
              "    </tr>\n",
              "    <tr>\n",
              "      <th>2</th>\n",
              "      <td>120</td>\n",
              "      <td>令和3年1月7日(PDF:151KB)</td>\n",
              "      <td>10代:2人20代:5人30代:3人40代:2人50代:2人60代:3人70代:1人80代:1人</td>\n",
              "      <td>男性:9人女性:10人</td>\n",
              "      <td>会社員:7人無職:4人自営業:3人学校関係者:3人福祉関係者:1人公務員:1人</td>\n",
              "      <td>既存:11人新規:8人</td>\n",
              "      <td>2021-01-07</td>\n",
              "    </tr>\n",
              "    <tr>\n",
              "      <th>3</th>\n",
              "      <td>121</td>\n",
              "      <td>令和3年1月8日(PDF:155KB)</td>\n",
              "      <td>20代:7人30代:6人40代:3人60代:3人70代:1人80代:2人</td>\n",
              "      <td>男:12人女:10人</td>\n",
              "      <td>会社員:10人無職:7人アルバイト:1人自営業:1人公務員:1人団体職員:1人学校関係者:1人</td>\n",
              "      <td>既存:14人新規:8人</td>\n",
              "      <td>2021-01-08</td>\n",
              "    </tr>\n",
              "    <tr>\n",
              "      <th>4</th>\n",
              "      <td>122</td>\n",
              "      <td>令和3年1月9日(PDF:177KB)</td>\n",
              "      <td>20代:1人30代:7人40代:4人50代:3人60代:1人80代:1人</td>\n",
              "      <td>男:9人女:8人</td>\n",
              "      <td>無職:6人会社員:4人自営業:4人公務員:2人医療関係者:1人</td>\n",
              "      <td>既存:13人新規:4人</td>\n",
              "      <td>2021-01-09</td>\n",
              "    </tr>\n",
              "    <tr>\n",
              "      <th>5</th>\n",
              "      <td>123</td>\n",
              "      <td>令和3年1月10日(PDF:173KB)</td>\n",
              "      <td>20代:7人30代:2人40代:2人60代:1人70代:3人</td>\n",
              "      <td>男性:10人女性:5人</td>\n",
              "      <td>会社員:10人自営業:2人無職:2人会社役員:1人</td>\n",
              "      <td>既存:9人新規:6人</td>\n",
              "      <td>2021-01-10</td>\n",
              "    </tr>\n",
              "    <tr>\n",
              "      <th>6</th>\n",
              "      <td>124</td>\n",
              "      <td>令和3年1月11日(PDF:154KB)</td>\n",
              "      <td>20代:8人30代:4人40代:4人50代:1人非公表:2人</td>\n",
              "      <td>男性:15人女性:4人</td>\n",
              "      <td>会社員:12人学校関係者:4人会社役員:2人無職:1人</td>\n",
              "      <td>既存:8人新規:11人</td>\n",
              "      <td>2021-01-11</td>\n",
              "    </tr>\n",
              "    <tr>\n",
              "      <th>7</th>\n",
              "      <td>125</td>\n",
              "      <td>令和3年1月12日(PDF:153KB)</td>\n",
              "      <td>10代:3人20代:5人30代:1人40代:2人70代:2人</td>\n",
              "      <td>男性:2人女性:11人</td>\n",
              "      <td>学校関係者:6人無職:3人会社員:2人自営業:2人</td>\n",
              "      <td>既存:12人新規:1人</td>\n",
              "      <td>2021-01-12</td>\n",
              "    </tr>\n",
              "    <tr>\n",
              "      <th>8</th>\n",
              "      <td>126</td>\n",
              "      <td>令和3年1月13日(PDF:153KB)</td>\n",
              "      <td>20代:3人30代:1人40代:2人90代:1人</td>\n",
              "      <td>男性:5人女性:2人</td>\n",
              "      <td>学校関係者:2人自営業:2人無職:2人会社員:1人</td>\n",
              "      <td>既存:1人新規:6人</td>\n",
              "      <td>2021-01-13</td>\n",
              "    </tr>\n",
              "    <tr>\n",
              "      <th>9</th>\n",
              "      <td>127</td>\n",
              "      <td>令和3年1月14日(PDF:152KB)</td>\n",
              "      <td>10歳未満:1人20代:6人30代:3人40代:2人50代:1人60代:5人70代:1人</td>\n",
              "      <td>男性:12人女性:7人</td>\n",
              "      <td>会社員:8人無職:5人学校関係者:2人自営業:2人医療関係者:1人福祉関係者:1人</td>\n",
              "      <td>既存:11人新規:8人</td>\n",
              "      <td>2021-01-14</td>\n",
              "    </tr>\n",
              "    <tr>\n",
              "      <th>10</th>\n",
              "      <td>128</td>\n",
              "      <td>令和3年1月15日(PDF:154KB)</td>\n",
              "      <td>10歳未満:1人20代:5人30代:2人40代:3人50代:3人60代:1人70代:2人80...</td>\n",
              "      <td>男性:11人女性:8人</td>\n",
              "      <td>会社員:7人無職:4人医療関係者:3人福祉関係者:2人学校関係者:2人団体職員:1人</td>\n",
              "      <td>既存:15人新規:4人</td>\n",
              "      <td>2021-01-15</td>\n",
              "    </tr>\n",
              "    <tr>\n",
              "      <th>11</th>\n",
              "      <td>129</td>\n",
              "      <td>令和3年1月16日(PDF:152KB)</td>\n",
              "      <td>10歳未満:1人20代:3人30代:1人40代:1人50代:2人60代:2人80代:1人</td>\n",
              "      <td>男性:2人女性:9人</td>\n",
              "      <td>会社員:3人無職:3人学校関係者:1人医療関係者:1人福祉関係者:1人アルバイト:1人調査中:1人</td>\n",
              "      <td>既存:6人新規:5人</td>\n",
              "      <td>2021-01-16</td>\n",
              "    </tr>\n",
              "    <tr>\n",
              "      <th>12</th>\n",
              "      <td>130</td>\n",
              "      <td>令和3年1月17日(PDF:151KB)</td>\n",
              "      <td>10代:1人20代:3人40代:1人50代:1人60代:1人80代:1人</td>\n",
              "      <td>男性:5人女性:3人</td>\n",
              "      <td>会社員:5人無職:2人アルバイト:1人</td>\n",
              "      <td>既存:4人新規:4人</td>\n",
              "      <td>2021-01-17</td>\n",
              "    </tr>\n",
              "    <tr>\n",
              "      <th>13</th>\n",
              "      <td>131</td>\n",
              "      <td>令和3年1月18日(PDF:149KB)</td>\n",
              "      <td>10代:2人20代:3人30代:1人40代:1人60代:1人80代:1人</td>\n",
              "      <td>男性:6人女性:3人</td>\n",
              "      <td>会社員:3人学校関係者:2人無職:2人福祉関係者:1人自営業:1人</td>\n",
              "      <td>既存:5人新規:4人</td>\n",
              "      <td>2021-01-18</td>\n",
              "    </tr>\n",
              "    <tr>\n",
              "      <th>14</th>\n",
              "      <td>132</td>\n",
              "      <td>令和3年1月19日(PDF:150KB)</td>\n",
              "      <td>10代:2人20代:2人30代:1人40代:2人50代:2人60代:1人70代:1人80代:1人</td>\n",
              "      <td>男性:6人女性:6人</td>\n",
              "      <td>会社員:3人学校関係者:2人無職:2人会社役員:1人医療関係者:1人自営業:1人アルバイト:...</td>\n",
              "      <td>既存:6人新規:6人</td>\n",
              "      <td>2021-01-19</td>\n",
              "    </tr>\n",
              "    <tr>\n",
              "      <th>15</th>\n",
              "      <td>133</td>\n",
              "      <td>令和3年1月20日(PDF:157KB)</td>\n",
              "      <td>10代:1人20代:3人40代:1人60代:3人70代:1人</td>\n",
              "      <td>男性:6人女性:3人</td>\n",
              "      <td>福祉関係者:3人会社員:2人学校関係者:2人自営業:1人団体職員:1人</td>\n",
              "      <td>既存:1人新規:8人</td>\n",
              "      <td>2021-01-20</td>\n",
              "    </tr>\n",
              "    <tr>\n",
              "      <th>16</th>\n",
              "      <td>134</td>\n",
              "      <td>令和3年1月21日(PDF:192KB)</td>\n",
              "      <td>10歳未満:2人20代:3人30代:3人40代:1人50代:1人60代:3人70代:2人80...</td>\n",
              "      <td>男性:9人女性:7人</td>\n",
              "      <td>無職:5人会社員:4人福祉関係者:3人学校関係者:1人医療関係者:1人アルバイト:1人団体職...</td>\n",
              "      <td>既存:12人新規:4人</td>\n",
              "      <td>2021-01-21</td>\n",
              "    </tr>\n",
              "    <tr>\n",
              "      <th>17</th>\n",
              "      <td>135</td>\n",
              "      <td>令和3年1月22日(PDF:145KB)</td>\n",
              "      <td>20代:5人30代:2人50代:1人60代:2人70代:1人80代:1人</td>\n",
              "      <td>男性:2人女性:10人</td>\n",
              "      <td>アルバイト:3人会社員:2人公務員:2人無職:2人学校関係者:1人自営業:1人団体職員:1人</td>\n",
              "      <td>既存:5人新規:7人</td>\n",
              "      <td>2021-01-22</td>\n",
              "    </tr>\n",
              "    <tr>\n",
              "      <th>18</th>\n",
              "      <td>136</td>\n",
              "      <td>令和3年1月23日(PDF:149KB)</td>\n",
              "      <td>10歳未満:1人10代:1人30代:4人50代:4人70代:1人80代:1人</td>\n",
              "      <td>男性:6人女性:6人</td>\n",
              "      <td>学校関係者:5人無職:3人会社員:2人福祉関係者:2人</td>\n",
              "      <td>既存:11人新規:1人</td>\n",
              "      <td>2021-01-23</td>\n",
              "    </tr>\n",
              "    <tr>\n",
              "      <th>19</th>\n",
              "      <td>137</td>\n",
              "      <td>令和3年1月24日(PDF:139KB)</td>\n",
              "      <td>20代:1人70代:2人</td>\n",
              "      <td>男性:1人女性:2人</td>\n",
              "      <td>無職:2人会社員:1人</td>\n",
              "      <td>既存:3人</td>\n",
              "      <td>2021-01-24</td>\n",
              "    </tr>\n",
              "    <tr>\n",
              "      <th>20</th>\n",
              "      <td>138</td>\n",
              "      <td>令和3年1月25日(PDF:142KB)</td>\n",
              "      <td>10歳未満:2人30代:2人40代:1人</td>\n",
              "      <td>男性:4人女性:1人</td>\n",
              "      <td>学校関係者:2人会社役員:1人会社員:1人無職:1人</td>\n",
              "      <td>既存:4人新規:1人</td>\n",
              "      <td>2021-01-25</td>\n",
              "    </tr>\n",
              "    <tr>\n",
              "      <th>21</th>\n",
              "      <td>139</td>\n",
              "      <td>令和3年1月26日(PDF:144KB)</td>\n",
              "      <td>10代:3人20代:1人30代:2人80代:1人</td>\n",
              "      <td>男性:6人女性:1人</td>\n",
              "      <td>無職:4人学校関係者:2人アルバイト:1人</td>\n",
              "      <td>既存:3人新規:4人</td>\n",
              "      <td>2021-01-26</td>\n",
              "    </tr>\n",
              "    <tr>\n",
              "      <th>22</th>\n",
              "      <td>140</td>\n",
              "      <td>令和3年1月27日(PDF:147KB)</td>\n",
              "      <td>10歳未満:1人10代:2人40代:2人50代:3人80代:1人</td>\n",
              "      <td>男性:4人女性:5人</td>\n",
              "      <td>学校関係者:3人無職:3人会社役員:1人会社員:1人医療関係者:1人</td>\n",
              "      <td>既存:4人新規:5人</td>\n",
              "      <td>2021-01-27</td>\n",
              "    </tr>\n",
              "    <tr>\n",
              "      <th>23</th>\n",
              "      <td>141</td>\n",
              "      <td>令和3年1月28日(PDF:108KB)</td>\n",
              "      <td>−</td>\n",
              "      <td>−</td>\n",
              "      <td>−</td>\n",
              "      <td>既存:1人</td>\n",
              "      <td>2021-01-28</td>\n",
              "    </tr>\n",
              "  </tbody>\n",
              "</table>\n",
              "</div>"
            ],
            "text/plain": [
              "     番号                   発表日  ...           事例       date\n",
              "0   118   令和3年1月5日(PDF:148KB)  ...  既存:10人新規:9人 2021-01-05\n",
              "1   119   令和3年1月6日(PDF:152KB)  ...  既存:13人新規:7人 2021-01-06\n",
              "2   120   令和3年1月7日(PDF:151KB)  ...  既存:11人新規:8人 2021-01-07\n",
              "3   121   令和3年1月8日(PDF:155KB)  ...  既存:14人新規:8人 2021-01-08\n",
              "4   122   令和3年1月9日(PDF:177KB)  ...  既存:13人新規:4人 2021-01-09\n",
              "5   123  令和3年1月10日(PDF:173KB)  ...   既存:9人新規:6人 2021-01-10\n",
              "6   124  令和3年1月11日(PDF:154KB)  ...  既存:8人新規:11人 2021-01-11\n",
              "7   125  令和3年1月12日(PDF:153KB)  ...  既存:12人新規:1人 2021-01-12\n",
              "8   126  令和3年1月13日(PDF:153KB)  ...   既存:1人新規:6人 2021-01-13\n",
              "9   127  令和3年1月14日(PDF:152KB)  ...  既存:11人新規:8人 2021-01-14\n",
              "10  128  令和3年1月15日(PDF:154KB)  ...  既存:15人新規:4人 2021-01-15\n",
              "11  129  令和3年1月16日(PDF:152KB)  ...   既存:6人新規:5人 2021-01-16\n",
              "12  130  令和3年1月17日(PDF:151KB)  ...   既存:4人新規:4人 2021-01-17\n",
              "13  131  令和3年1月18日(PDF:149KB)  ...   既存:5人新規:4人 2021-01-18\n",
              "14  132  令和3年1月19日(PDF:150KB)  ...   既存:6人新規:6人 2021-01-19\n",
              "15  133  令和3年1月20日(PDF:157KB)  ...   既存:1人新規:8人 2021-01-20\n",
              "16  134  令和3年1月21日(PDF:192KB)  ...  既存:12人新規:4人 2021-01-21\n",
              "17  135  令和3年1月22日(PDF:145KB)  ...   既存:5人新規:7人 2021-01-22\n",
              "18  136  令和3年1月23日(PDF:149KB)  ...  既存:11人新規:1人 2021-01-23\n",
              "19  137  令和3年1月24日(PDF:139KB)  ...        既存:3人 2021-01-24\n",
              "20  138  令和3年1月25日(PDF:142KB)  ...   既存:4人新規:1人 2021-01-25\n",
              "21  139  令和3年1月26日(PDF:144KB)  ...   既存:3人新規:4人 2021-01-26\n",
              "22  140  令和3年1月27日(PDF:147KB)  ...   既存:4人新規:5人 2021-01-27\n",
              "23  141  令和3年1月28日(PDF:108KB)  ...        既存:1人 2021-01-28\n",
              "\n",
              "[24 rows x 7 columns]"
            ]
          },
          "metadata": {
            "tags": []
          },
          "execution_count": 17
        }
      ]
    },
    {
      "cell_type": "markdown",
      "metadata": {
        "id": "ZF8fZtkwn0ik"
      },
      "source": [
        "# 日付"
      ]
    },
    {
      "cell_type": "code",
      "metadata": {
        "colab": {
          "base_uri": "https://localhost:8080/",
          "height": 834
        },
        "id": "D4qML19e6DYH",
        "outputId": "47e83a07-1444-4c39-a4c5-1fdfc8e62313"
      },
      "source": [
        "df_case = str2data(df2[\"事例\"]).join(df2[\"date\"]).set_index(\"date\")\r\n",
        "df_case"
      ],
      "execution_count": 18,
      "outputs": [
        {
          "output_type": "execute_result",
          "data": {
            "text/html": [
              "<div>\n",
              "<style scoped>\n",
              "    .dataframe tbody tr th:only-of-type {\n",
              "        vertical-align: middle;\n",
              "    }\n",
              "\n",
              "    .dataframe tbody tr th {\n",
              "        vertical-align: top;\n",
              "    }\n",
              "\n",
              "    .dataframe thead th {\n",
              "        text-align: right;\n",
              "    }\n",
              "</style>\n",
              "<table border=\"1\" class=\"dataframe\">\n",
              "  <thead>\n",
              "    <tr style=\"text-align: right;\">\n",
              "      <th></th>\n",
              "      <th>新規</th>\n",
              "      <th>既存</th>\n",
              "    </tr>\n",
              "    <tr>\n",
              "      <th>date</th>\n",
              "      <th></th>\n",
              "      <th></th>\n",
              "    </tr>\n",
              "  </thead>\n",
              "  <tbody>\n",
              "    <tr>\n",
              "      <th>2021-01-05</th>\n",
              "      <td>9</td>\n",
              "      <td>10</td>\n",
              "    </tr>\n",
              "    <tr>\n",
              "      <th>2021-01-06</th>\n",
              "      <td>7</td>\n",
              "      <td>13</td>\n",
              "    </tr>\n",
              "    <tr>\n",
              "      <th>2021-01-07</th>\n",
              "      <td>8</td>\n",
              "      <td>11</td>\n",
              "    </tr>\n",
              "    <tr>\n",
              "      <th>2021-01-08</th>\n",
              "      <td>8</td>\n",
              "      <td>14</td>\n",
              "    </tr>\n",
              "    <tr>\n",
              "      <th>2021-01-09</th>\n",
              "      <td>4</td>\n",
              "      <td>13</td>\n",
              "    </tr>\n",
              "    <tr>\n",
              "      <th>2021-01-10</th>\n",
              "      <td>6</td>\n",
              "      <td>9</td>\n",
              "    </tr>\n",
              "    <tr>\n",
              "      <th>2021-01-11</th>\n",
              "      <td>11</td>\n",
              "      <td>8</td>\n",
              "    </tr>\n",
              "    <tr>\n",
              "      <th>2021-01-12</th>\n",
              "      <td>1</td>\n",
              "      <td>12</td>\n",
              "    </tr>\n",
              "    <tr>\n",
              "      <th>2021-01-13</th>\n",
              "      <td>6</td>\n",
              "      <td>1</td>\n",
              "    </tr>\n",
              "    <tr>\n",
              "      <th>2021-01-14</th>\n",
              "      <td>8</td>\n",
              "      <td>11</td>\n",
              "    </tr>\n",
              "    <tr>\n",
              "      <th>2021-01-15</th>\n",
              "      <td>4</td>\n",
              "      <td>15</td>\n",
              "    </tr>\n",
              "    <tr>\n",
              "      <th>2021-01-16</th>\n",
              "      <td>5</td>\n",
              "      <td>6</td>\n",
              "    </tr>\n",
              "    <tr>\n",
              "      <th>2021-01-17</th>\n",
              "      <td>4</td>\n",
              "      <td>4</td>\n",
              "    </tr>\n",
              "    <tr>\n",
              "      <th>2021-01-18</th>\n",
              "      <td>4</td>\n",
              "      <td>5</td>\n",
              "    </tr>\n",
              "    <tr>\n",
              "      <th>2021-01-19</th>\n",
              "      <td>6</td>\n",
              "      <td>6</td>\n",
              "    </tr>\n",
              "    <tr>\n",
              "      <th>2021-01-20</th>\n",
              "      <td>8</td>\n",
              "      <td>1</td>\n",
              "    </tr>\n",
              "    <tr>\n",
              "      <th>2021-01-21</th>\n",
              "      <td>4</td>\n",
              "      <td>12</td>\n",
              "    </tr>\n",
              "    <tr>\n",
              "      <th>2021-01-22</th>\n",
              "      <td>7</td>\n",
              "      <td>5</td>\n",
              "    </tr>\n",
              "    <tr>\n",
              "      <th>2021-01-23</th>\n",
              "      <td>1</td>\n",
              "      <td>11</td>\n",
              "    </tr>\n",
              "    <tr>\n",
              "      <th>2021-01-24</th>\n",
              "      <td>0</td>\n",
              "      <td>3</td>\n",
              "    </tr>\n",
              "    <tr>\n",
              "      <th>2021-01-25</th>\n",
              "      <td>1</td>\n",
              "      <td>4</td>\n",
              "    </tr>\n",
              "    <tr>\n",
              "      <th>2021-01-26</th>\n",
              "      <td>4</td>\n",
              "      <td>3</td>\n",
              "    </tr>\n",
              "    <tr>\n",
              "      <th>2021-01-27</th>\n",
              "      <td>5</td>\n",
              "      <td>4</td>\n",
              "    </tr>\n",
              "    <tr>\n",
              "      <th>2021-01-28</th>\n",
              "      <td>0</td>\n",
              "      <td>1</td>\n",
              "    </tr>\n",
              "  </tbody>\n",
              "</table>\n",
              "</div>"
            ],
            "text/plain": [
              "            新規  既存\n",
              "date              \n",
              "2021-01-05   9  10\n",
              "2021-01-06   7  13\n",
              "2021-01-07   8  11\n",
              "2021-01-08   8  14\n",
              "2021-01-09   4  13\n",
              "2021-01-10   6   9\n",
              "2021-01-11  11   8\n",
              "2021-01-12   1  12\n",
              "2021-01-13   6   1\n",
              "2021-01-14   8  11\n",
              "2021-01-15   4  15\n",
              "2021-01-16   5   6\n",
              "2021-01-17   4   4\n",
              "2021-01-18   4   5\n",
              "2021-01-19   6   6\n",
              "2021-01-20   8   1\n",
              "2021-01-21   4  12\n",
              "2021-01-22   7   5\n",
              "2021-01-23   1  11\n",
              "2021-01-24   0   3\n",
              "2021-01-25   1   4\n",
              "2021-01-26   4   3\n",
              "2021-01-27   5   4\n",
              "2021-01-28   0   1"
            ]
          },
          "metadata": {
            "tags": []
          },
          "execution_count": 18
        }
      ]
    },
    {
      "cell_type": "code",
      "metadata": {
        "id": "KXzWTtO94zPO"
      },
      "source": [
        "s1_date = df1[\"date\"].value_counts().sort_index()"
      ],
      "execution_count": 19,
      "outputs": []
    },
    {
      "cell_type": "code",
      "metadata": {
        "id": "epPtEkGVlZhc"
      },
      "source": [
        "s2_date = df_case.sum(axis=1)"
      ],
      "execution_count": 20,
      "outputs": []
    },
    {
      "cell_type": "code",
      "metadata": {
        "id": "ClKBEaoZ64-X"
      },
      "source": [
        "s_date = pd.concat([s1_date, s2_date]).sort_index()"
      ],
      "execution_count": 21,
      "outputs": []
    },
    {
      "cell_type": "code",
      "metadata": {
        "colab": {
          "base_uri": "https://localhost:8080/"
        },
        "id": "kOe2SIqaFtR0",
        "outputId": "b57da379-c2d7-4d6d-ba1b-4bcdbf6937a2"
      },
      "source": [
        "s_date"
      ],
      "execution_count": 22,
      "outputs": [
        {
          "output_type": "execute_result",
          "data": {
            "text/plain": [
              "2020-03-04    1\n",
              "2020-03-18    1\n",
              "2020-03-31    5\n",
              "2020-04-03    4\n",
              "2020-04-08    1\n",
              "             ..\n",
              "2021-01-24    3\n",
              "2021-01-25    5\n",
              "2021-01-26    7\n",
              "2021-01-27    9\n",
              "2021-01-28    1\n",
              "Length: 113, dtype: int64"
            ]
          },
          "metadata": {
            "tags": []
          },
          "execution_count": 22
        }
      ]
    },
    {
      "cell_type": "code",
      "metadata": {
        "colab": {
          "base_uri": "https://localhost:8080/",
          "height": 740
        },
        "id": "tDvVSxD_Et6-",
        "outputId": "7cad241b-21d6-48ec-d429-ce9b7155df35"
      },
      "source": [
        "locator = mdates.AutoDateLocator()\r\n",
        "formatter = mdates.ConciseDateFormatter(locator)\r\n",
        "fig, ax = plt.subplots()\r\n",
        "ax.xaxis.set_major_locator(locator)\r\n",
        "ax.xaxis.set_major_formatter(formatter)\r\n",
        "\r\n",
        "ax.bar(s_date.index, s_date.values, width=1)\r\n",
        "\r\n",
        "plt.savefig(\"01.png\", dpi=200, bbox_inches=\"tight\")\r\n",
        "plt.show()"
      ],
      "execution_count": 23,
      "outputs": [
        {
          "output_type": "display_data",
          "data": {
            "image/png": "[encoded data removed]",
            "text/plain": [
              "<Figure size 1200x800 with 1 Axes>"
            ]
          },
          "metadata": {
            "tags": [],
            "needs_background": "light"
          }
        }
      ]
    },
    {
      "cell_type": "code",
      "metadata": {
        "colab": {
          "base_uri": "https://localhost:8080/"
        },
        "id": "XX4jWWP77Dev",
        "outputId": "c70c8774-8186-4c62-8b46-4696cd88a994"
      },
      "source": [
        "s_date.resample(\"M\").sum()"
      ],
      "execution_count": 24,
      "outputs": [
        {
          "output_type": "execute_result",
          "data": {
            "text/plain": [
              "2020-03-31      7\n",
              "2020-04-30     21\n",
              "2020-05-31     34\n",
              "2020-06-30      0\n",
              "2020-07-31      4\n",
              "2020-08-31     15\n",
              "2020-09-30      0\n",
              "2020-10-31      2\n",
              "2020-11-30    177\n",
              "2020-12-31    119\n",
              "2021-01-31    326\n",
              "Freq: M, dtype: int64"
            ]
          },
          "metadata": {
            "tags": []
          },
          "execution_count": 24
        }
      ]
    },
    {
      "cell_type": "code",
      "metadata": {
        "colab": {
          "base_uri": "https://localhost:8080/"
        },
        "id": "FWPxqRvgG2gs",
        "outputId": "1f1a5c87-8e3f-40bc-ce17-73ba4cad35fb"
      },
      "source": [
        "s_date.sum()"
      ],
      "execution_count": 25,
      "outputs": [
        {
          "output_type": "execute_result",
          "data": {
            "text/plain": [
              "705"
            ]
          },
          "metadata": {
            "tags": []
          },
          "execution_count": 25
        }
      ]
    },
    {
      "cell_type": "markdown",
      "metadata": {
        "id": "-oEMuxm_n4eo"
      },
      "source": [
        "# 年代"
      ]
    },
    {
      "cell_type": "code",
      "metadata": {
        "id": "SdTtgmbMn8gJ"
      },
      "source": [
        "df1_ages = pd.crosstab(df1[\"date\"], df1[\"年代\"])\r\n",
        "df2_ages = str2data(df2[\"年代\"]).join(df2[\"date\"]).set_index(\"date\")\r\n",
        "\r\n",
        "df_ages = pd.concat([df1_ages, df2_ages]).fillna(0).astype(int).sort_index()"
      ],
      "execution_count": 26,
      "outputs": []
    },
    {
      "cell_type": "code",
      "metadata": {
        "colab": {
          "base_uri": "https://localhost:8080/",
          "height": 455
        },
        "id": "hwVTypoJ4wnQ",
        "outputId": "1d559285-60a4-4b4c-d31b-4da8597a4d4e"
      },
      "source": [
        "df_ages"
      ],
      "execution_count": 27,
      "outputs": [
        {
          "output_type": "execute_result",
          "data": {
            "text/html": [
              "<div>\n",
              "<style scoped>\n",
              "    .dataframe tbody tr th:only-of-type {\n",
              "        vertical-align: middle;\n",
              "    }\n",
              "\n",
              "    .dataframe tbody tr th {\n",
              "        vertical-align: top;\n",
              "    }\n",
              "\n",
              "    .dataframe thead th {\n",
              "        text-align: right;\n",
              "    }\n",
              "</style>\n",
              "<table border=\"1\" class=\"dataframe\">\n",
              "  <thead>\n",
              "    <tr style=\"text-align: right;\">\n",
              "      <th></th>\n",
              "      <th>10代</th>\n",
              "      <th>20代</th>\n",
              "      <th>30代</th>\n",
              "      <th>40代</th>\n",
              "      <th>50代</th>\n",
              "      <th>60代</th>\n",
              "      <th>70代</th>\n",
              "      <th>80代</th>\n",
              "      <th>90代</th>\n",
              "      <th>調査中</th>\n",
              "      <th>非公表</th>\n",
              "      <th>10歳未満</th>\n",
              "    </tr>\n",
              "    <tr>\n",
              "      <th>date</th>\n",
              "      <th></th>\n",
              "      <th></th>\n",
              "      <th></th>\n",
              "      <th></th>\n",
              "      <th></th>\n",
              "      <th></th>\n",
              "      <th></th>\n",
              "      <th></th>\n",
              "      <th></th>\n",
              "      <th></th>\n",
              "      <th></th>\n",
              "      <th></th>\n",
              "    </tr>\n",
              "  </thead>\n",
              "  <tbody>\n",
              "    <tr>\n",
              "      <th>2020-03-04</th>\n",
              "      <td>0</td>\n",
              "      <td>0</td>\n",
              "      <td>1</td>\n",
              "      <td>0</td>\n",
              "      <td>0</td>\n",
              "      <td>0</td>\n",
              "      <td>0</td>\n",
              "      <td>0</td>\n",
              "      <td>0</td>\n",
              "      <td>0</td>\n",
              "      <td>0</td>\n",
              "      <td>0</td>\n",
              "    </tr>\n",
              "    <tr>\n",
              "      <th>2020-03-18</th>\n",
              "      <td>0</td>\n",
              "      <td>0</td>\n",
              "      <td>1</td>\n",
              "      <td>0</td>\n",
              "      <td>0</td>\n",
              "      <td>0</td>\n",
              "      <td>0</td>\n",
              "      <td>0</td>\n",
              "      <td>0</td>\n",
              "      <td>0</td>\n",
              "      <td>0</td>\n",
              "      <td>0</td>\n",
              "    </tr>\n",
              "    <tr>\n",
              "      <th>2020-03-31</th>\n",
              "      <td>0</td>\n",
              "      <td>0</td>\n",
              "      <td>0</td>\n",
              "      <td>0</td>\n",
              "      <td>1</td>\n",
              "      <td>1</td>\n",
              "      <td>1</td>\n",
              "      <td>2</td>\n",
              "      <td>0</td>\n",
              "      <td>0</td>\n",
              "      <td>0</td>\n",
              "      <td>0</td>\n",
              "    </tr>\n",
              "    <tr>\n",
              "      <th>2020-04-03</th>\n",
              "      <td>0</td>\n",
              "      <td>0</td>\n",
              "      <td>0</td>\n",
              "      <td>2</td>\n",
              "      <td>1</td>\n",
              "      <td>0</td>\n",
              "      <td>0</td>\n",
              "      <td>1</td>\n",
              "      <td>0</td>\n",
              "      <td>0</td>\n",
              "      <td>0</td>\n",
              "      <td>0</td>\n",
              "    </tr>\n",
              "    <tr>\n",
              "      <th>2020-04-08</th>\n",
              "      <td>0</td>\n",
              "      <td>0</td>\n",
              "      <td>1</td>\n",
              "      <td>0</td>\n",
              "      <td>0</td>\n",
              "      <td>0</td>\n",
              "      <td>0</td>\n",
              "      <td>0</td>\n",
              "      <td>0</td>\n",
              "      <td>0</td>\n",
              "      <td>0</td>\n",
              "      <td>0</td>\n",
              "    </tr>\n",
              "    <tr>\n",
              "      <th>...</th>\n",
              "      <td>...</td>\n",
              "      <td>...</td>\n",
              "      <td>...</td>\n",
              "      <td>...</td>\n",
              "      <td>...</td>\n",
              "      <td>...</td>\n",
              "      <td>...</td>\n",
              "      <td>...</td>\n",
              "      <td>...</td>\n",
              "      <td>...</td>\n",
              "      <td>...</td>\n",
              "      <td>...</td>\n",
              "    </tr>\n",
              "    <tr>\n",
              "      <th>2021-01-23</th>\n",
              "      <td>1</td>\n",
              "      <td>0</td>\n",
              "      <td>4</td>\n",
              "      <td>0</td>\n",
              "      <td>4</td>\n",
              "      <td>0</td>\n",
              "      <td>1</td>\n",
              "      <td>1</td>\n",
              "      <td>0</td>\n",
              "      <td>0</td>\n",
              "      <td>0</td>\n",
              "      <td>1</td>\n",
              "    </tr>\n",
              "    <tr>\n",
              "      <th>2021-01-24</th>\n",
              "      <td>0</td>\n",
              "      <td>1</td>\n",
              "      <td>0</td>\n",
              "      <td>0</td>\n",
              "      <td>0</td>\n",
              "      <td>0</td>\n",
              "      <td>2</td>\n",
              "      <td>0</td>\n",
              "      <td>0</td>\n",
              "      <td>0</td>\n",
              "      <td>0</td>\n",
              "      <td>0</td>\n",
              "    </tr>\n",
              "    <tr>\n",
              "      <th>2021-01-25</th>\n",
              "      <td>0</td>\n",
              "      <td>0</td>\n",
              "      <td>2</td>\n",
              "      <td>1</td>\n",
              "      <td>0</td>\n",
              "      <td>0</td>\n",
              "      <td>0</td>\n",
              "      <td>0</td>\n",
              "      <td>0</td>\n",
              "      <td>0</td>\n",
              "      <td>0</td>\n",
              "      <td>2</td>\n",
              "    </tr>\n",
              "    <tr>\n",
              "      <th>2021-01-26</th>\n",
              "      <td>3</td>\n",
              "      <td>1</td>\n",
              "      <td>2</td>\n",
              "      <td>0</td>\n",
              "      <td>0</td>\n",
              "      <td>0</td>\n",
              "      <td>0</td>\n",
              "      <td>1</td>\n",
              "      <td>0</td>\n",
              "      <td>0</td>\n",
              "      <td>0</td>\n",
              "      <td>0</td>\n",
              "    </tr>\n",
              "    <tr>\n",
              "      <th>2021-01-27</th>\n",
              "      <td>2</td>\n",
              "      <td>0</td>\n",
              "      <td>0</td>\n",
              "      <td>2</td>\n",
              "      <td>3</td>\n",
              "      <td>0</td>\n",
              "      <td>0</td>\n",
              "      <td>1</td>\n",
              "      <td>0</td>\n",
              "      <td>0</td>\n",
              "      <td>0</td>\n",
              "      <td>1</td>\n",
              "    </tr>\n",
              "  </tbody>\n",
              "</table>\n",
              "<p>112 rows × 12 columns</p>\n",
              "</div>"
            ],
            "text/plain": [
              "            10代  20代  30代  40代  50代  60代  70代  80代  90代  調査中  非公表  10歳未満\n",
              "date                                                                    \n",
              "2020-03-04    0    0    1    0    0    0    0    0    0    0    0      0\n",
              "2020-03-18    0    0    1    0    0    0    0    0    0    0    0      0\n",
              "2020-03-31    0    0    0    0    1    1    1    2    0    0    0      0\n",
              "2020-04-03    0    0    0    2    1    0    0    1    0    0    0      0\n",
              "2020-04-08    0    0    1    0    0    0    0    0    0    0    0      0\n",
              "...         ...  ...  ...  ...  ...  ...  ...  ...  ...  ...  ...    ...\n",
              "2021-01-23    1    0    4    0    4    0    1    1    0    0    0      1\n",
              "2021-01-24    0    1    0    0    0    0    2    0    0    0    0      0\n",
              "2021-01-25    0    0    2    1    0    0    0    0    0    0    0      2\n",
              "2021-01-26    3    1    2    0    0    0    0    1    0    0    0      0\n",
              "2021-01-27    2    0    0    2    3    0    0    1    0    0    0      1\n",
              "\n",
              "[112 rows x 12 columns]"
            ]
          },
          "metadata": {
            "tags": []
          },
          "execution_count": 27
        }
      ]
    },
    {
      "cell_type": "code",
      "metadata": {
        "colab": {
          "base_uri": "https://localhost:8080/",
          "height": 706
        },
        "id": "sKX53muMr2MR",
        "outputId": "c2db4823-7d51-4329-dfce-18accc2754b5"
      },
      "source": [
        "df_ages.sum().plot.barh()\r\n",
        "\r\n",
        "plt.savefig(\"02.png\", dpi=200, bbox_inches=\"tight\")\r\n",
        "plt.show()"
      ],
      "execution_count": 28,
      "outputs": [
        {
          "output_type": "display_data",
          "data": {
            "image/png": "[encoded data removed]",
            "text/plain": [
              "<Figure size 1200x800 with 1 Axes>"
            ]
          },
          "metadata": {
            "tags": [],
            "needs_background": "light"
          }
        }
      ]
    },
    {
      "cell_type": "markdown",
      "metadata": {
        "id": "C2lD0AtmpYRY"
      },
      "source": [
        "# 性別"
      ]
    },
    {
      "cell_type": "code",
      "metadata": {
        "id": "-XKWgn-z5K0_"
      },
      "source": [
        "df1_sexs = pd.crosstab(df1[\"date\"], df1[\"性別\"])\r\n",
        "\r\n",
        "df2_sexs = str2data(df2[\"性別\"]).join(df2[\"date\"]).set_index(\"date\")\r\n",
        "df2_sexs[\"男性\"] += df2_sexs[\"男\"]\r\n",
        "df2_sexs[\"女性\"] += df2_sexs[\"女\"]\r\n",
        "df2_sexs.drop([\"男\", \"女\"], axis=1, inplace=True)\r\n",
        "\r\n",
        "df_sexs = pd.concat([df1_sexs, df2_sexs]).fillna(0).astype(int).sort_index()"
      ],
      "execution_count": 29,
      "outputs": []
    },
    {
      "cell_type": "code",
      "metadata": {
        "colab": {
          "base_uri": "https://localhost:8080/",
          "height": 455
        },
        "id": "VENxaiDWq13n",
        "outputId": "5cc005c0-3b9e-49d6-ca77-c389ad0186bf"
      },
      "source": [
        "df_sexs"
      ],
      "execution_count": 30,
      "outputs": [
        {
          "output_type": "execute_result",
          "data": {
            "text/html": [
              "<div>\n",
              "<style scoped>\n",
              "    .dataframe tbody tr th:only-of-type {\n",
              "        vertical-align: middle;\n",
              "    }\n",
              "\n",
              "    .dataframe tbody tr th {\n",
              "        vertical-align: top;\n",
              "    }\n",
              "\n",
              "    .dataframe thead th {\n",
              "        text-align: right;\n",
              "    }\n",
              "</style>\n",
              "<table border=\"1\" class=\"dataframe\">\n",
              "  <thead>\n",
              "    <tr style=\"text-align: right;\">\n",
              "      <th></th>\n",
              "      <th>女性</th>\n",
              "      <th>男性</th>\n",
              "      <th>調査中</th>\n",
              "      <th>非公表</th>\n",
              "    </tr>\n",
              "    <tr>\n",
              "      <th>date</th>\n",
              "      <th></th>\n",
              "      <th></th>\n",
              "      <th></th>\n",
              "      <th></th>\n",
              "    </tr>\n",
              "  </thead>\n",
              "  <tbody>\n",
              "    <tr>\n",
              "      <th>2020-03-04</th>\n",
              "      <td>1</td>\n",
              "      <td>0</td>\n",
              "      <td>0</td>\n",
              "      <td>0</td>\n",
              "    </tr>\n",
              "    <tr>\n",
              "      <th>2020-03-18</th>\n",
              "      <td>1</td>\n",
              "      <td>0</td>\n",
              "      <td>0</td>\n",
              "      <td>0</td>\n",
              "    </tr>\n",
              "    <tr>\n",
              "      <th>2020-03-31</th>\n",
              "      <td>1</td>\n",
              "      <td>4</td>\n",
              "      <td>0</td>\n",
              "      <td>0</td>\n",
              "    </tr>\n",
              "    <tr>\n",
              "      <th>2020-04-03</th>\n",
              "      <td>2</td>\n",
              "      <td>2</td>\n",
              "      <td>0</td>\n",
              "      <td>0</td>\n",
              "    </tr>\n",
              "    <tr>\n",
              "      <th>2020-04-08</th>\n",
              "      <td>0</td>\n",
              "      <td>1</td>\n",
              "      <td>0</td>\n",
              "      <td>0</td>\n",
              "    </tr>\n",
              "    <tr>\n",
              "      <th>...</th>\n",
              "      <td>...</td>\n",
              "      <td>...</td>\n",
              "      <td>...</td>\n",
              "      <td>...</td>\n",
              "    </tr>\n",
              "    <tr>\n",
              "      <th>2021-01-23</th>\n",
              "      <td>6</td>\n",
              "      <td>6</td>\n",
              "      <td>0</td>\n",
              "      <td>0</td>\n",
              "    </tr>\n",
              "    <tr>\n",
              "      <th>2021-01-24</th>\n",
              "      <td>2</td>\n",
              "      <td>1</td>\n",
              "      <td>0</td>\n",
              "      <td>0</td>\n",
              "    </tr>\n",
              "    <tr>\n",
              "      <th>2021-01-25</th>\n",
              "      <td>1</td>\n",
              "      <td>4</td>\n",
              "      <td>0</td>\n",
              "      <td>0</td>\n",
              "    </tr>\n",
              "    <tr>\n",
              "      <th>2021-01-26</th>\n",
              "      <td>1</td>\n",
              "      <td>6</td>\n",
              "      <td>0</td>\n",
              "      <td>0</td>\n",
              "    </tr>\n",
              "    <tr>\n",
              "      <th>2021-01-27</th>\n",
              "      <td>5</td>\n",
              "      <td>4</td>\n",
              "      <td>0</td>\n",
              "      <td>0</td>\n",
              "    </tr>\n",
              "  </tbody>\n",
              "</table>\n",
              "<p>112 rows × 4 columns</p>\n",
              "</div>"
            ],
            "text/plain": [
              "            女性  男性  調査中  非公表\n",
              "date                        \n",
              "2020-03-04   1   0    0    0\n",
              "2020-03-18   1   0    0    0\n",
              "2020-03-31   1   4    0    0\n",
              "2020-04-03   2   2    0    0\n",
              "2020-04-08   0   1    0    0\n",
              "...         ..  ..  ...  ...\n",
              "2021-01-23   6   6    0    0\n",
              "2021-01-24   2   1    0    0\n",
              "2021-01-25   1   4    0    0\n",
              "2021-01-26   1   6    0    0\n",
              "2021-01-27   5   4    0    0\n",
              "\n",
              "[112 rows x 4 columns]"
            ]
          },
          "metadata": {
            "tags": []
          },
          "execution_count": 30
        }
      ]
    },
    {
      "cell_type": "code",
      "metadata": {
        "colab": {
          "base_uri": "https://localhost:8080/",
          "height": 706
        },
        "id": "H34uBmgvsGaA",
        "outputId": "63ab1db9-2334-434a-be30-257a57ff5fc0"
      },
      "source": [
        "df_sexs.sum().plot.barh()\r\n",
        "\r\n",
        "plt.savefig(\"03.png\", dpi=200, bbox_inches=\"tight\")\r\n",
        "plt.show()"
      ],
      "execution_count": 31,
      "outputs": [
        {
          "output_type": "display_data",
          "data": {
            "image/png": "[encoded data removed]",
            "text/plain": [
              "<Figure size 1200x800 with 1 Axes>"
            ]
          },
          "metadata": {
            "tags": [],
            "needs_background": "light"
          }
        }
      ]
    },
    {
      "cell_type": "markdown",
      "metadata": {
        "id": "OWFmmacPrDKJ"
      },
      "source": [
        "# 職業等"
      ]
    },
    {
      "cell_type": "code",
      "metadata": {
        "id": "VQ6JPkR5tU7Q"
      },
      "source": [
        "df1[\"職業等\"] = df1[\"職業等\"].replace(\r\n",
        "    {\r\n",
        "        \"入院患者等\": \"入院患者\",\r\n",
        "        \"学校関係者※学校での活動なし\": \"学校関係者\",\r\n",
        "        \"看護職員※居住地は松前町\": \"看護職員\",\r\n",
        "        \"医療機関Aに勤務する職員\": \"医療機関職員\",\r\n",
        "        \"医療機関職員※居住地は東温市\": \"医療機関職員\",\r\n",
        "        \"医療機関Aに勤務する介護職員\": \"介護職員\", \r\n",
        "    }\r\n",
        ")"
      ],
      "execution_count": 32,
      "outputs": []
    },
    {
      "cell_type": "code",
      "metadata": {
        "id": "oQZ7TiPr23nY"
      },
      "source": [
        "df1_works = pd.crosstab(df1[\"date\"], df1[\"職業等\"])\r\n",
        "df2_works = str2data(df2[\"職業等\"]).join(df2[\"date\"]).set_index(\"date\")\r\n",
        "\r\n",
        "df_works = pd.concat([df1_works, df2_works]).fillna(0).astype(int).sort_index()"
      ],
      "execution_count": 33,
      "outputs": []
    },
    {
      "cell_type": "code",
      "metadata": {
        "colab": {
          "base_uri": "https://localhost:8080/"
        },
        "id": "RerKtEV5sNx5",
        "outputId": "13065635-72ca-4517-98de-17ecc8089c36"
      },
      "source": [
        "df_works.sum()"
      ],
      "execution_count": 34,
      "outputs": [
        {
          "output_type": "execute_result",
          "data": {
            "text/plain": [
              "プロサッカー選手      1\n",
              "介護職員          4\n",
              "会社員         179\n",
              "会社役員         18\n",
              "入院患者         19\n",
              "公務員           7\n",
              "利用者           8\n",
              "医療従事者         2\n",
              "医療機関職員        3\n",
              "医療関係者        11\n",
              "団体職員          8\n",
              "学校関係者        66\n",
              "学生            7\n",
              "教職員           5\n",
              "教諭            1\n",
              "無職          112\n",
              "看護職員          6\n",
              "職員            5\n",
              "自営業          50\n",
              "調査中           2\n",
              "非公表         164\n",
              "高齢者施設入居者      1\n",
              "アルバイト        10\n",
              "スポーツ関係者       1\n",
              "福祉関係者        14\n",
              "dtype: int64"
            ]
          },
          "metadata": {
            "tags": []
          },
          "execution_count": 34
        }
      ]
    },
    {
      "cell_type": "code",
      "metadata": {
        "colab": {
          "base_uri": "https://localhost:8080/",
          "height": 706
        },
        "id": "v-gWeD1E9mDR",
        "outputId": "7f592b19-1a00-4476-ddc9-eb549dc2214e"
      },
      "source": [
        "df_works.sum().plot.barh()\r\n",
        "\r\n",
        "plt.savefig(\"04.png\", dpi=200, bbox_inches=\"tight\")\r\n",
        "plt.show()"
      ],
      "execution_count": 35,
      "outputs": [
        {
          "output_type": "display_data",
          "data": {
            "image/png": "[encoded data removed]",
            "text/plain": [
              "<Figure size 1200x800 with 1 Axes>"
            ]
          },
          "metadata": {
            "tags": [],
            "needs_background": "light"
          }
        }
      ]
    },
    {
      "cell_type": "code",
      "metadata": {
        "colab": {
          "base_uri": "https://localhost:8080/",
          "height": 473
        },
        "id": "0WUN9qE9rdyJ",
        "outputId": "c6740c81-1fe2-49d1-b831-2abf130b17ea"
      },
      "source": [
        "df_works"
      ],
      "execution_count": 36,
      "outputs": [
        {
          "output_type": "execute_result",
          "data": {
            "text/html": [
              "<div>\n",
              "<style scoped>\n",
              "    .dataframe tbody tr th:only-of-type {\n",
              "        vertical-align: middle;\n",
              "    }\n",
              "\n",
              "    .dataframe tbody tr th {\n",
              "        vertical-align: top;\n",
              "    }\n",
              "\n",
              "    .dataframe thead th {\n",
              "        text-align: right;\n",
              "    }\n",
              "</style>\n",
              "<table border=\"1\" class=\"dataframe\">\n",
              "  <thead>\n",
              "    <tr style=\"text-align: right;\">\n",
              "      <th></th>\n",
              "      <th>プロサッカー選手</th>\n",
              "      <th>介護職員</th>\n",
              "      <th>会社員</th>\n",
              "      <th>会社役員</th>\n",
              "      <th>入院患者</th>\n",
              "      <th>公務員</th>\n",
              "      <th>利用者</th>\n",
              "      <th>医療従事者</th>\n",
              "      <th>医療機関職員</th>\n",
              "      <th>医療関係者</th>\n",
              "      <th>団体職員</th>\n",
              "      <th>学校関係者</th>\n",
              "      <th>学生</th>\n",
              "      <th>教職員</th>\n",
              "      <th>教諭</th>\n",
              "      <th>無職</th>\n",
              "      <th>看護職員</th>\n",
              "      <th>職員</th>\n",
              "      <th>自営業</th>\n",
              "      <th>調査中</th>\n",
              "      <th>非公表</th>\n",
              "      <th>高齢者施設入居者</th>\n",
              "      <th>アルバイト</th>\n",
              "      <th>スポーツ関係者</th>\n",
              "      <th>福祉関係者</th>\n",
              "    </tr>\n",
              "    <tr>\n",
              "      <th>date</th>\n",
              "      <th></th>\n",
              "      <th></th>\n",
              "      <th></th>\n",
              "      <th></th>\n",
              "      <th></th>\n",
              "      <th></th>\n",
              "      <th></th>\n",
              "      <th></th>\n",
              "      <th></th>\n",
              "      <th></th>\n",
              "      <th></th>\n",
              "      <th></th>\n",
              "      <th></th>\n",
              "      <th></th>\n",
              "      <th></th>\n",
              "      <th></th>\n",
              "      <th></th>\n",
              "      <th></th>\n",
              "      <th></th>\n",
              "      <th></th>\n",
              "      <th></th>\n",
              "      <th></th>\n",
              "      <th></th>\n",
              "      <th></th>\n",
              "      <th></th>\n",
              "    </tr>\n",
              "  </thead>\n",
              "  <tbody>\n",
              "    <tr>\n",
              "      <th>2020-03-04</th>\n",
              "      <td>0</td>\n",
              "      <td>0</td>\n",
              "      <td>1</td>\n",
              "      <td>0</td>\n",
              "      <td>0</td>\n",
              "      <td>0</td>\n",
              "      <td>0</td>\n",
              "      <td>0</td>\n",
              "      <td>0</td>\n",
              "      <td>0</td>\n",
              "      <td>0</td>\n",
              "      <td>0</td>\n",
              "      <td>0</td>\n",
              "      <td>0</td>\n",
              "      <td>0</td>\n",
              "      <td>0</td>\n",
              "      <td>0</td>\n",
              "      <td>0</td>\n",
              "      <td>0</td>\n",
              "      <td>0</td>\n",
              "      <td>0</td>\n",
              "      <td>0</td>\n",
              "      <td>0</td>\n",
              "      <td>0</td>\n",
              "      <td>0</td>\n",
              "    </tr>\n",
              "    <tr>\n",
              "      <th>2020-03-18</th>\n",
              "      <td>0</td>\n",
              "      <td>0</td>\n",
              "      <td>1</td>\n",
              "      <td>0</td>\n",
              "      <td>0</td>\n",
              "      <td>0</td>\n",
              "      <td>0</td>\n",
              "      <td>0</td>\n",
              "      <td>0</td>\n",
              "      <td>0</td>\n",
              "      <td>0</td>\n",
              "      <td>0</td>\n",
              "      <td>0</td>\n",
              "      <td>0</td>\n",
              "      <td>0</td>\n",
              "      <td>0</td>\n",
              "      <td>0</td>\n",
              "      <td>0</td>\n",
              "      <td>0</td>\n",
              "      <td>0</td>\n",
              "      <td>0</td>\n",
              "      <td>0</td>\n",
              "      <td>0</td>\n",
              "      <td>0</td>\n",
              "      <td>0</td>\n",
              "    </tr>\n",
              "    <tr>\n",
              "      <th>2020-03-31</th>\n",
              "      <td>0</td>\n",
              "      <td>0</td>\n",
              "      <td>0</td>\n",
              "      <td>0</td>\n",
              "      <td>0</td>\n",
              "      <td>0</td>\n",
              "      <td>0</td>\n",
              "      <td>0</td>\n",
              "      <td>0</td>\n",
              "      <td>0</td>\n",
              "      <td>0</td>\n",
              "      <td>0</td>\n",
              "      <td>0</td>\n",
              "      <td>0</td>\n",
              "      <td>0</td>\n",
              "      <td>2</td>\n",
              "      <td>0</td>\n",
              "      <td>0</td>\n",
              "      <td>3</td>\n",
              "      <td>0</td>\n",
              "      <td>0</td>\n",
              "      <td>0</td>\n",
              "      <td>0</td>\n",
              "      <td>0</td>\n",
              "      <td>0</td>\n",
              "    </tr>\n",
              "    <tr>\n",
              "      <th>2020-04-03</th>\n",
              "      <td>0</td>\n",
              "      <td>0</td>\n",
              "      <td>3</td>\n",
              "      <td>0</td>\n",
              "      <td>0</td>\n",
              "      <td>0</td>\n",
              "      <td>0</td>\n",
              "      <td>0</td>\n",
              "      <td>0</td>\n",
              "      <td>0</td>\n",
              "      <td>0</td>\n",
              "      <td>0</td>\n",
              "      <td>0</td>\n",
              "      <td>0</td>\n",
              "      <td>0</td>\n",
              "      <td>1</td>\n",
              "      <td>0</td>\n",
              "      <td>0</td>\n",
              "      <td>0</td>\n",
              "      <td>0</td>\n",
              "      <td>0</td>\n",
              "      <td>0</td>\n",
              "      <td>0</td>\n",
              "      <td>0</td>\n",
              "      <td>0</td>\n",
              "    </tr>\n",
              "    <tr>\n",
              "      <th>2020-04-08</th>\n",
              "      <td>0</td>\n",
              "      <td>0</td>\n",
              "      <td>1</td>\n",
              "      <td>0</td>\n",
              "      <td>0</td>\n",
              "      <td>0</td>\n",
              "      <td>0</td>\n",
              "      <td>0</td>\n",
              "      <td>0</td>\n",
              "      <td>0</td>\n",
              "      <td>0</td>\n",
              "      <td>0</td>\n",
              "      <td>0</td>\n",
              "      <td>0</td>\n",
              "      <td>0</td>\n",
              "      <td>0</td>\n",
              "      <td>0</td>\n",
              "      <td>0</td>\n",
              "      <td>0</td>\n",
              "      <td>0</td>\n",
              "      <td>0</td>\n",
              "      <td>0</td>\n",
              "      <td>0</td>\n",
              "      <td>0</td>\n",
              "      <td>0</td>\n",
              "    </tr>\n",
              "    <tr>\n",
              "      <th>...</th>\n",
              "      <td>...</td>\n",
              "      <td>...</td>\n",
              "      <td>...</td>\n",
              "      <td>...</td>\n",
              "      <td>...</td>\n",
              "      <td>...</td>\n",
              "      <td>...</td>\n",
              "      <td>...</td>\n",
              "      <td>...</td>\n",
              "      <td>...</td>\n",
              "      <td>...</td>\n",
              "      <td>...</td>\n",
              "      <td>...</td>\n",
              "      <td>...</td>\n",
              "      <td>...</td>\n",
              "      <td>...</td>\n",
              "      <td>...</td>\n",
              "      <td>...</td>\n",
              "      <td>...</td>\n",
              "      <td>...</td>\n",
              "      <td>...</td>\n",
              "      <td>...</td>\n",
              "      <td>...</td>\n",
              "      <td>...</td>\n",
              "      <td>...</td>\n",
              "    </tr>\n",
              "    <tr>\n",
              "      <th>2021-01-23</th>\n",
              "      <td>0</td>\n",
              "      <td>0</td>\n",
              "      <td>2</td>\n",
              "      <td>0</td>\n",
              "      <td>0</td>\n",
              "      <td>0</td>\n",
              "      <td>0</td>\n",
              "      <td>0</td>\n",
              "      <td>0</td>\n",
              "      <td>0</td>\n",
              "      <td>0</td>\n",
              "      <td>5</td>\n",
              "      <td>0</td>\n",
              "      <td>0</td>\n",
              "      <td>0</td>\n",
              "      <td>3</td>\n",
              "      <td>0</td>\n",
              "      <td>0</td>\n",
              "      <td>0</td>\n",
              "      <td>0</td>\n",
              "      <td>0</td>\n",
              "      <td>0</td>\n",
              "      <td>0</td>\n",
              "      <td>0</td>\n",
              "      <td>2</td>\n",
              "    </tr>\n",
              "    <tr>\n",
              "      <th>2021-01-24</th>\n",
              "      <td>0</td>\n",
              "      <td>0</td>\n",
              "      <td>1</td>\n",
              "      <td>0</td>\n",
              "      <td>0</td>\n",
              "      <td>0</td>\n",
              "      <td>0</td>\n",
              "      <td>0</td>\n",
              "      <td>0</td>\n",
              "      <td>0</td>\n",
              "      <td>0</td>\n",
              "      <td>0</td>\n",
              "      <td>0</td>\n",
              "      <td>0</td>\n",
              "      <td>0</td>\n",
              "      <td>2</td>\n",
              "      <td>0</td>\n",
              "      <td>0</td>\n",
              "      <td>0</td>\n",
              "      <td>0</td>\n",
              "      <td>0</td>\n",
              "      <td>0</td>\n",
              "      <td>0</td>\n",
              "      <td>0</td>\n",
              "      <td>0</td>\n",
              "    </tr>\n",
              "    <tr>\n",
              "      <th>2021-01-25</th>\n",
              "      <td>0</td>\n",
              "      <td>0</td>\n",
              "      <td>1</td>\n",
              "      <td>1</td>\n",
              "      <td>0</td>\n",
              "      <td>0</td>\n",
              "      <td>0</td>\n",
              "      <td>0</td>\n",
              "      <td>0</td>\n",
              "      <td>0</td>\n",
              "      <td>0</td>\n",
              "      <td>2</td>\n",
              "      <td>0</td>\n",
              "      <td>0</td>\n",
              "      <td>0</td>\n",
              "      <td>1</td>\n",
              "      <td>0</td>\n",
              "      <td>0</td>\n",
              "      <td>0</td>\n",
              "      <td>0</td>\n",
              "      <td>0</td>\n",
              "      <td>0</td>\n",
              "      <td>0</td>\n",
              "      <td>0</td>\n",
              "      <td>0</td>\n",
              "    </tr>\n",
              "    <tr>\n",
              "      <th>2021-01-26</th>\n",
              "      <td>0</td>\n",
              "      <td>0</td>\n",
              "      <td>0</td>\n",
              "      <td>0</td>\n",
              "      <td>0</td>\n",
              "      <td>0</td>\n",
              "      <td>0</td>\n",
              "      <td>0</td>\n",
              "      <td>0</td>\n",
              "      <td>0</td>\n",
              "      <td>0</td>\n",
              "      <td>2</td>\n",
              "      <td>0</td>\n",
              "      <td>0</td>\n",
              "      <td>0</td>\n",
              "      <td>4</td>\n",
              "      <td>0</td>\n",
              "      <td>0</td>\n",
              "      <td>0</td>\n",
              "      <td>0</td>\n",
              "      <td>0</td>\n",
              "      <td>0</td>\n",
              "      <td>1</td>\n",
              "      <td>0</td>\n",
              "      <td>0</td>\n",
              "    </tr>\n",
              "    <tr>\n",
              "      <th>2021-01-27</th>\n",
              "      <td>0</td>\n",
              "      <td>0</td>\n",
              "      <td>1</td>\n",
              "      <td>1</td>\n",
              "      <td>0</td>\n",
              "      <td>0</td>\n",
              "      <td>0</td>\n",
              "      <td>0</td>\n",
              "      <td>0</td>\n",
              "      <td>1</td>\n",
              "      <td>0</td>\n",
              "      <td>3</td>\n",
              "      <td>0</td>\n",
              "      <td>0</td>\n",
              "      <td>0</td>\n",
              "      <td>3</td>\n",
              "      <td>0</td>\n",
              "      <td>0</td>\n",
              "      <td>0</td>\n",
              "      <td>0</td>\n",
              "      <td>0</td>\n",
              "      <td>0</td>\n",
              "      <td>0</td>\n",
              "      <td>0</td>\n",
              "      <td>0</td>\n",
              "    </tr>\n",
              "  </tbody>\n",
              "</table>\n",
              "<p>112 rows × 25 columns</p>\n",
              "</div>"
            ],
            "text/plain": [
              "            プロサッカー選手  介護職員  会社員  会社役員  ...  高齢者施設入居者  アルバイト  スポーツ関係者  福祉関係者\n",
              "date                                   ...                                 \n",
              "2020-03-04         0     0    1     0  ...         0      0        0      0\n",
              "2020-03-18         0     0    1     0  ...         0      0        0      0\n",
              "2020-03-31         0     0    0     0  ...         0      0        0      0\n",
              "2020-04-03         0     0    3     0  ...         0      0        0      0\n",
              "2020-04-08         0     0    1     0  ...         0      0        0      0\n",
              "...              ...   ...  ...   ...  ...       ...    ...      ...    ...\n",
              "2021-01-23         0     0    2     0  ...         0      0        0      2\n",
              "2021-01-24         0     0    1     0  ...         0      0        0      0\n",
              "2021-01-25         0     0    1     1  ...         0      0        0      0\n",
              "2021-01-26         0     0    0     0  ...         0      1        0      0\n",
              "2021-01-27         0     0    1     1  ...         0      0        0      0\n",
              "\n",
              "[112 rows x 25 columns]"
            ]
          },
          "metadata": {
            "tags": []
          },
          "execution_count": 36
        }
      ]
    }
  ]
}